{
 "cells": [
  {
   "cell_type": "code",
   "execution_count": 1,
   "id": "80eb2c3c",
   "metadata": {
    "scrolled": true
   },
   "outputs": [
    {
     "name": "stdout",
     "output_type": "stream",
     "text": [
      "WARNING:tensorflow:From C:\\Users\\ramya\\anaconda3\\Lib\\site-packages\\keras\\src\\losses.py:2976: The name tf.losses.sparse_softmax_cross_entropy is deprecated. Please use tf.compat.v1.losses.sparse_softmax_cross_entropy instead.\n",
      "\n"
     ]
    }
   ],
   "source": [
    "from tensorflow.keras.models import load_model\n",
    "from tensorflow.keras.preprocessing import image\n",
    "import numpy as np"
   ]
  },
  {
   "cell_type": "code",
   "execution_count": 2,
   "id": "dd154b5b",
   "metadata": {},
   "outputs": [
    {
     "name": "stdout",
     "output_type": "stream",
     "text": [
      "WARNING:tensorflow:From C:\\Users\\ramya\\anaconda3\\Lib\\site-packages\\keras\\src\\backend.py:1398: The name tf.executing_eagerly_outside_functions is deprecated. Please use tf.compat.v1.executing_eagerly_outside_functions instead.\n",
      "\n",
      "WARNING:tensorflow:From C:\\Users\\ramya\\anaconda3\\Lib\\site-packages\\keras\\src\\layers\\pooling\\max_pooling2d.py:161: The name tf.nn.max_pool is deprecated. Please use tf.nn.max_pool2d instead.\n",
      "\n"
     ]
    }
   ],
   "source": [
    "#load the saved model\n",
    "model=load_model(r\"C:\\Users\\ramya\\Model_Alzheimer.h5\")"
   ]
  },
  {
   "cell_type": "code",
   "execution_count": 3,
   "id": "982b0d19",
   "metadata": {},
   "outputs": [],
   "source": [
    "#load and preprocess the test image\n",
    "test_image_path=r\"C:\\Users\\ramya\\Downloads\\archive (3)\\Alzheimer_s Dataset\\train - Copy\\Demented\\verymildDem975.jpg\"\n",
    "img=image.load_img(test_image_path,target_size=(224,224))\n",
    "img_array=image.img_to_array(img)\n",
    "img_array=np.expand_dims(img_array,axis=0)"
   ]
  },
  {
   "cell_type": "code",
   "execution_count": 4,
   "id": "793bc7d1",
   "metadata": {},
   "outputs": [
    {
     "name": "stdout",
     "output_type": "stream",
     "text": [
      "1/1 [==============================] - 0s 402ms/step\n",
      "[[0.05136111]]\n"
     ]
    }
   ],
   "source": [
    "#add batch dimension\n",
    "img_array /=255. #normalize the pixel values\n",
    "#make predictions\n",
    "prediction=model.predict(img_array)\n",
    "#print the prediction\n",
    "print(prediction)"
   ]
  },
  {
   "cell_type": "code",
   "execution_count": 5,
   "id": "50bf429c",
   "metadata": {},
   "outputs": [
    {
     "name": "stdout",
     "output_type": "stream",
     "text": [
      "having the alzheimer\n"
     ]
    }
   ],
   "source": [
    "if prediction < 0.5:\n",
    "  print(\"having the alzheimer\")\n",
    "else:\n",
    "    print(\"no alzheimer\")"
   ]
  },
  {
   "cell_type": "code",
   "execution_count": null,
   "id": "b6e80561",
   "metadata": {},
   "outputs": [],
   "source": []
  }
 ],
 "metadata": {
  "kernelspec": {
   "display_name": "Python 3 (ipykernel)",
   "language": "python",
   "name": "python3"
  },
  "language_info": {
   "codemirror_mode": {
    "name": "ipython",
    "version": 3
   },
   "file_extension": ".py",
   "mimetype": "text/x-python",
   "name": "python",
   "nbconvert_exporter": "python",
   "pygments_lexer": "ipython3",
   "version": "3.11.5"
  }
 },
 "nbformat": 4,
 "nbformat_minor": 5
}
