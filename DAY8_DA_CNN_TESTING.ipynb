{
  "nbformat": 4,
  "nbformat_minor": 0,
  "metadata": {
    "colab": {
      "provenance": []
    },
    "kernelspec": {
      "name": "python3",
      "display_name": "Python 3"
    },
    "language_info": {
      "name": "python"
    }
  },
  "cells": [
    {
      "cell_type": "code",
      "execution_count": null,
      "metadata": {
        "id": "uwO6GxrFaJfZ"
      },
      "outputs": [],
      "source": [
        "from tensorflow.keras.models import load_model\n",
        "from tensorflow.keras.preprocessing import image\n",
        "import numpy as np"
      ]
    },
    {
      "cell_type": "code",
      "source": [
        "#load the saved model\n",
        "model=load_model(\"/content/drive/MyDrive/Braintumour model file/Model.h5\")"
      ],
      "metadata": {
        "id": "-SGA46aRkSRj"
      },
      "execution_count": null,
      "outputs": []
    },
    {
      "cell_type": "code",
      "source": [
        "#load and preprocess the test image\n",
        "test_image_path='/content/drive/MyDrive/Brain_Tumor_Detection-20240301T092752Z-001/Brain_Tumor_Detection/Train/no/No13.jpg'\n",
        "img=image.load_img(test_image_path,target_size=(224,224))\n",
        "img_array=image.img_to_array(img)\n",
        "img_array=np.expand_dims(img_array,axis=0)"
      ],
      "metadata": {
        "id": "Ur_RNsSPlm2Y"
      },
      "execution_count": null,
      "outputs": []
    },
    {
      "cell_type": "code",
      "source": [
        "#add batch dimension\n",
        "img_array /=255. #normalize the pixel values\n",
        "#make predictions\n",
        "prediction=model.predict(img_array)\n",
        "#print the prediction\n",
        "print(prediction)"
      ],
      "metadata": {
        "id": "rXnRLB2Lnetf",
        "colab": {
          "base_uri": "https://localhost:8080/"
        },
        "outputId": "72592274-4ec7-4db7-9efa-a06aef89b535"
      },
      "execution_count": null,
      "outputs": [
        {
          "output_type": "stream",
          "name": "stdout",
          "text": [
            "1/1 [==============================] - 0s 316ms/step\n",
            "[[2.3256865e-11]]\n"
          ]
        }
      ]
    },
    {
      "cell_type": "code",
      "source": [
        "if prediction < 0.5:\n",
        "  print(\"prediction: No tumor\")\n",
        "else:\n",
        "    print(\"tumour is present\")"
      ],
      "metadata": {
        "id": "--Qffk11oY00",
        "colab": {
          "base_uri": "https://localhost:8080/"
        },
        "outputId": "782805e0-2f23-4ee2-8aad-183a3d45530c"
      },
      "execution_count": null,
      "outputs": [
        {
          "output_type": "stream",
          "name": "stdout",
          "text": [
            "prediction: No tumor\n"
          ]
        }
      ]
    }
  ]
}