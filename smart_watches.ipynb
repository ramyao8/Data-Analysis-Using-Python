{
 "cells": [
  {
   "cell_type": "code",
   "execution_count": 33,
   "id": "077788d0",
   "metadata": {},
   "outputs": [],
   "source": [
    "from selenium import webdriver\n",
    "from selenium.webdriver.chrome.options import Options\n",
    "from selenium.webdriver.common.by import By\n",
    "from selenium.webdriver.common.keys import Keys\n",
    "from webdriver_manager.chrome import ChromeDriverManager\n",
    "import pandas as pd"
   ]
  },
  {
   "cell_type": "code",
   "execution_count": 34,
   "id": "f95ec6a0",
   "metadata": {},
   "outputs": [],
   "source": [
    "options = webdriver.ChromeOptions()"
   ]
  },
  {
   "cell_type": "code",
   "execution_count": 35,
   "id": "41e7642d",
   "metadata": {},
   "outputs": [],
   "source": [
    "driver = webdriver.Chrome(options=options)"
   ]
  },
  {
   "cell_type": "code",
   "execution_count": 36,
   "id": "0d9a4d75",
   "metadata": {},
   "outputs": [],
   "source": [
    "driver.get('https://www.myntra.com/')"
   ]
  },
  {
   "cell_type": "code",
   "execution_count": 37,
   "id": "0b034fb9",
   "metadata": {},
   "outputs": [],
   "source": [
    "search=driver.find_element(By.XPATH,\".//input[@class='desktop-searchBar']\")"
   ]
  },
  {
   "cell_type": "code",
   "execution_count": 38,
   "id": "67acb7a9",
   "metadata": {},
   "outputs": [],
   "source": [
    "search.send_keys(\"smart watches\")"
   ]
  },
  {
   "cell_type": "code",
   "execution_count": 39,
   "id": "d73e4cde",
   "metadata": {},
   "outputs": [],
   "source": [
    "search.send_keys(Keys.ENTER)"
   ]
  },
  {
   "cell_type": "code",
   "execution_count": 40,
   "id": "ad7bd18e",
   "metadata": {},
   "outputs": [],
   "source": [
    "brand=driver.find_elements(By.XPATH,\".//h3[@class='product-brand']\")\n",
    "brand=[i.text for i in brand]"
   ]
  },
  {
   "cell_type": "code",
   "execution_count": 41,
   "id": "e3037af8",
   "metadata": {},
   "outputs": [
    {
     "name": "stdout",
     "output_type": "stream",
     "text": [
      "['pebble', 'Fire-Boltt', 'pebble', 'boAt', 'NOISE', 'pebble', 'CMF by Nothing', 'pebble', 'Fire-Boltt', 'pebble', 'Fire-Boltt', 'Fire-Boltt', 'boAt', 'NOISE', 'boAt', 'Fire-Boltt', 'pebble', 'NOISE', 'Fire-Boltt', 'pebble', 'Fire-Boltt', 'NOISE', 'Fire-Boltt', 'Realme', 'NOISE', 'Fire-Boltt', 'boAt', 'pebble', 'NOISE', 'Fire-Boltt', 'HAMMER', 'NOISE', 'boAt', 'CMF by Nothing', 'CMF by Nothing', 'NOISE', 'Fire-Boltt', 'Timex', 'Fire-Boltt', 'Realme', 'pebble', 'NOISE', 'Fire-Boltt', 'boAt', 'pebble', 'boAt', 'NOISE', 'Fire-Boltt', 'boAt', 'Fastrack']\n",
      "50\n"
     ]
    }
   ],
   "source": [
    "print(brand)\n",
    "print(len(brand))"
   ]
  },
  {
   "cell_type": "code",
   "execution_count": 42,
   "id": "66c5affc",
   "metadata": {},
   "outputs": [],
   "source": [
    "product=driver.find_elements(By.XPATH,\".//h4[@class='product-product']\")\n",
    "product=[i.text for i in product]"
   ]
  },
  {
   "cell_type": "code",
   "execution_count": 43,
   "id": "3787c5f8",
   "metadata": {},
   "outputs": [
    {
     "name": "stdout",
     "output_type": "stream",
     "text": [
      "['Celia 1.32\" Display SmartWatch', 'Starlight Bluetooth Smartwatch', 'Women 1.27\" Smart Watch', 'Unisex Wave Genesis Smartwatch', 'Fit Posh Smartwatch', 'Cosmos Ultra 1.91\" BT Calling Smartwatch', 'Watch Pro', 'Celia 1.32\" Display SmartWatch', 'Hurricane Smartwatch', 'Women 1.27\" Smart Watch', 'Rock AMOLED Display Smartwatch', 'Eclipse Luxe 1.43\" Amoled', 'Ultima Prism Smart Watch', 'Mettle EliteEdition Smartwatch', 'Lunar Mirage Smartwatch', 'Hulk 1.78 inch Smartwatch', 'Hive 1.39\" Display Smart Watch', 'Fit Posh Smartwatch', 'Supernova Bluetooth SmartWatch', 'Cosmos Ultra 1.91\" BT Calling Smartwatch', 'Aura BT Calling Smartwatch', 'Fit Posh Smartwatch', 'Cobra AMOLED Smart Watch', 'TechLife Watch S100', 'ColorFit Icon 2 Smartwatch', 'Eclipse Luxe 1.43\" Amoled', 'Storm Plus AMOLED Smart Watch', 'Cosmos Quest Smartwatch', 'ColorFit Icon 2 Smartwatch', 'Hulk 1.78 inch Smartwatch', 'Unisex Pulse 2.0 Smart Watch', 'ColorFit Pro 5 Smartwatch', 'Unisex Wave Genesis Smartwatch', 'Watch Pro', 'Watch Pro', 'NoiseFit Evolve 3 Smartwatch', 'Hurricane Smartwatch', 'iConnect Gen+ Smart Watch', 'Hurricane Smartwatch', 'TechLife Watch S100', 'BT Calling Luxury Smartwatch', 'ColorFit Vision 3 Smartwatch', 'Visionary TWS Smartwatch', 'Unisex Ultima Prism Smartwatch', 'Cosmos Ultra 1.91\" BT Calling Smartwatch', 'Lunar Connect Ace', 'Evolve 3 Smartwatch', 'Avalanche Luxury Smart Watch', 'Unisex Ultima Prism Smartwatch', 'FS2 BT Calling Smartwatch']\n",
      "50\n"
     ]
    }
   ],
   "source": [
    "print(product)\n",
    "print(len(product))"
   ]
  },
  {
   "cell_type": "code",
   "execution_count": 44,
   "id": "921be130",
   "metadata": {},
   "outputs": [],
   "source": [
    "price=driver.find_elements(By.XPATH,\".//span[@class='product-discountedPrice']\")\n",
    "price=[i.text for i in price]"
   ]
  },
  {
   "cell_type": "code",
   "execution_count": 45,
   "id": "82de975d",
   "metadata": {},
   "outputs": [
    {
     "name": "stdout",
     "output_type": "stream",
     "text": [
      "['Rs. 1599', 'Rs. 2299', 'Rs. 1899', 'Rs. 1799', 'Rs. 1599', 'Rs. 3499', 'Rs. 2299', 'Rs. 1700', 'Rs. 2299', 'Rs. 3199', 'Rs. 1799', 'Rs. 2349', 'Rs. 2249', 'Rs. 1599', 'Rs. 1799', 'Rs. 1699', 'Rs. 1799', 'Rs. 1899', 'Rs. 1599', 'Rs. 1999', 'Rs. 1799', 'Rs. 1899', 'Rs. 2499', 'Rs. 1799', 'Rs. 1999', 'Rs. 1899', 'Rs. 2499', 'Rs. 1799', 'Rs. 1799', 'Rs. 1849', 'Rs. 3999', 'Rs. 1899', 'Rs. 3499', 'Rs. 3499', 'Rs. 2449', 'Rs. 1899', 'Rs. 2527', 'Rs. 1850', 'Rs. 2499', 'Rs. 1999', 'Rs. 3499', 'Rs. 2499', 'Rs. 2349', 'Rs. 1599', 'Rs. 1999', 'Rs. 2449', 'Rs. 2199', 'Rs. 2599', 'Rs. 1999']\n",
      "49\n"
     ]
    }
   ],
   "source": [
    "print(price)\n",
    "print(len(price))"
   ]
  },
  {
   "cell_type": "code",
   "execution_count": 46,
   "id": "0b8aea74",
   "metadata": {},
   "outputs": [
    {
     "data": {
      "text/html": [
       "<div>\n",
       "<style scoped>\n",
       "    .dataframe tbody tr th:only-of-type {\n",
       "        vertical-align: middle;\n",
       "    }\n",
       "\n",
       "    .dataframe tbody tr th {\n",
       "        vertical-align: top;\n",
       "    }\n",
       "\n",
       "    .dataframe thead th {\n",
       "        text-align: right;\n",
       "    }\n",
       "</style>\n",
       "<table border=\"1\" class=\"dataframe\">\n",
       "  <thead>\n",
       "    <tr style=\"text-align: right;\">\n",
       "      <th></th>\n",
       "      <th>Brand</th>\n",
       "      <th>Desc</th>\n",
       "      <th>Price</th>\n",
       "    </tr>\n",
       "  </thead>\n",
       "  <tbody>\n",
       "  </tbody>\n",
       "</table>\n",
       "</div>"
      ],
      "text/plain": [
       "Empty DataFrame\n",
       "Columns: [Brand, Desc, Price]\n",
       "Index: []"
      ]
     },
     "execution_count": 46,
     "metadata": {},
     "output_type": "execute_result"
    }
   ],
   "source": [
    "df= pd.DataFrame(columns=[\"Brand\",\"Desc\",\"Price\"])\n",
    "df"
   ]
  },
  {
   "cell_type": "code",
   "execution_count": 47,
   "id": "cda55f97",
   "metadata": {},
   "outputs": [],
   "source": [
    "df['Brand']=brand[0:15]\n",
    "df['Desc']=product[0:15]\n",
    "df['Price']=price[0:15]"
   ]
  },
  {
   "cell_type": "code",
   "execution_count": 48,
   "id": "1601068e",
   "metadata": {},
   "outputs": [
    {
     "data": {
      "text/html": [
       "<div>\n",
       "<style scoped>\n",
       "    .dataframe tbody tr th:only-of-type {\n",
       "        vertical-align: middle;\n",
       "    }\n",
       "\n",
       "    .dataframe tbody tr th {\n",
       "        vertical-align: top;\n",
       "    }\n",
       "\n",
       "    .dataframe thead th {\n",
       "        text-align: right;\n",
       "    }\n",
       "</style>\n",
       "<table border=\"1\" class=\"dataframe\">\n",
       "  <thead>\n",
       "    <tr style=\"text-align: right;\">\n",
       "      <th></th>\n",
       "      <th>Brand</th>\n",
       "      <th>Desc</th>\n",
       "      <th>Price</th>\n",
       "    </tr>\n",
       "  </thead>\n",
       "  <tbody>\n",
       "    <tr>\n",
       "      <th>0</th>\n",
       "      <td>pebble</td>\n",
       "      <td>Celia 1.32\" Display SmartWatch</td>\n",
       "      <td>Rs. 1599</td>\n",
       "    </tr>\n",
       "    <tr>\n",
       "      <th>1</th>\n",
       "      <td>Fire-Boltt</td>\n",
       "      <td>Starlight Bluetooth Smartwatch</td>\n",
       "      <td>Rs. 2299</td>\n",
       "    </tr>\n",
       "    <tr>\n",
       "      <th>2</th>\n",
       "      <td>pebble</td>\n",
       "      <td>Women 1.27\" Smart Watch</td>\n",
       "      <td>Rs. 1899</td>\n",
       "    </tr>\n",
       "    <tr>\n",
       "      <th>3</th>\n",
       "      <td>boAt</td>\n",
       "      <td>Unisex Wave Genesis Smartwatch</td>\n",
       "      <td>Rs. 1799</td>\n",
       "    </tr>\n",
       "    <tr>\n",
       "      <th>4</th>\n",
       "      <td>NOISE</td>\n",
       "      <td>Fit Posh Smartwatch</td>\n",
       "      <td>Rs. 1599</td>\n",
       "    </tr>\n",
       "    <tr>\n",
       "      <th>5</th>\n",
       "      <td>pebble</td>\n",
       "      <td>Cosmos Ultra 1.91\" BT Calling Smartwatch</td>\n",
       "      <td>Rs. 3499</td>\n",
       "    </tr>\n",
       "    <tr>\n",
       "      <th>6</th>\n",
       "      <td>CMF by Nothing</td>\n",
       "      <td>Watch Pro</td>\n",
       "      <td>Rs. 2299</td>\n",
       "    </tr>\n",
       "    <tr>\n",
       "      <th>7</th>\n",
       "      <td>pebble</td>\n",
       "      <td>Celia 1.32\" Display SmartWatch</td>\n",
       "      <td>Rs. 1700</td>\n",
       "    </tr>\n",
       "    <tr>\n",
       "      <th>8</th>\n",
       "      <td>Fire-Boltt</td>\n",
       "      <td>Hurricane Smartwatch</td>\n",
       "      <td>Rs. 2299</td>\n",
       "    </tr>\n",
       "    <tr>\n",
       "      <th>9</th>\n",
       "      <td>pebble</td>\n",
       "      <td>Women 1.27\" Smart Watch</td>\n",
       "      <td>Rs. 3199</td>\n",
       "    </tr>\n",
       "    <tr>\n",
       "      <th>10</th>\n",
       "      <td>Fire-Boltt</td>\n",
       "      <td>Rock AMOLED Display Smartwatch</td>\n",
       "      <td>Rs. 1799</td>\n",
       "    </tr>\n",
       "    <tr>\n",
       "      <th>11</th>\n",
       "      <td>Fire-Boltt</td>\n",
       "      <td>Eclipse Luxe 1.43\" Amoled</td>\n",
       "      <td>Rs. 2349</td>\n",
       "    </tr>\n",
       "    <tr>\n",
       "      <th>12</th>\n",
       "      <td>boAt</td>\n",
       "      <td>Ultima Prism Smart Watch</td>\n",
       "      <td>Rs. 2249</td>\n",
       "    </tr>\n",
       "    <tr>\n",
       "      <th>13</th>\n",
       "      <td>NOISE</td>\n",
       "      <td>Mettle EliteEdition Smartwatch</td>\n",
       "      <td>Rs. 1599</td>\n",
       "    </tr>\n",
       "    <tr>\n",
       "      <th>14</th>\n",
       "      <td>boAt</td>\n",
       "      <td>Lunar Mirage Smartwatch</td>\n",
       "      <td>Rs. 1799</td>\n",
       "    </tr>\n",
       "  </tbody>\n",
       "</table>\n",
       "</div>"
      ],
      "text/plain": [
       "             Brand                                      Desc     Price\n",
       "0           pebble            Celia 1.32\" Display SmartWatch  Rs. 1599\n",
       "1       Fire-Boltt            Starlight Bluetooth Smartwatch  Rs. 2299\n",
       "2           pebble                   Women 1.27\" Smart Watch  Rs. 1899\n",
       "3             boAt            Unisex Wave Genesis Smartwatch  Rs. 1799\n",
       "4            NOISE                       Fit Posh Smartwatch  Rs. 1599\n",
       "5           pebble  Cosmos Ultra 1.91\" BT Calling Smartwatch  Rs. 3499\n",
       "6   CMF by Nothing                                 Watch Pro  Rs. 2299\n",
       "7           pebble            Celia 1.32\" Display SmartWatch  Rs. 1700\n",
       "8       Fire-Boltt                      Hurricane Smartwatch  Rs. 2299\n",
       "9           pebble                   Women 1.27\" Smart Watch  Rs. 3199\n",
       "10      Fire-Boltt            Rock AMOLED Display Smartwatch  Rs. 1799\n",
       "11      Fire-Boltt                 Eclipse Luxe 1.43\" Amoled  Rs. 2349\n",
       "12            boAt                  Ultima Prism Smart Watch  Rs. 2249\n",
       "13           NOISE            Mettle EliteEdition Smartwatch  Rs. 1599\n",
       "14            boAt                   Lunar Mirage Smartwatch  Rs. 1799"
      ]
     },
     "execution_count": 48,
     "metadata": {},
     "output_type": "execute_result"
    }
   ],
   "source": [
    "df"
   ]
  },
  {
   "cell_type": "code",
   "execution_count": 49,
   "id": "f4a62c65",
   "metadata": {},
   "outputs": [],
   "source": [
    "df.to_csv(\"smart watches.csv\")"
   ]
  },
  {
   "cell_type": "code",
   "execution_count": null,
   "id": "ed48b716",
   "metadata": {},
   "outputs": [],
   "source": []
  }
 ],
 "metadata": {
  "kernelspec": {
   "display_name": "Python 3 (ipykernel)",
   "language": "python",
   "name": "python3"
  },
  "language_info": {
   "codemirror_mode": {
    "name": "ipython",
    "version": 3
   },
   "file_extension": ".py",
   "mimetype": "text/x-python",
   "name": "python",
   "nbconvert_exporter": "python",
   "pygments_lexer": "ipython3",
   "version": "3.11.5"
  }
 },
 "nbformat": 4,
 "nbformat_minor": 5
}
