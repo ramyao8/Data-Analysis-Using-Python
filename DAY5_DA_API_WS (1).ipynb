{
  "nbformat": 4,
  "nbformat_minor": 0,
  "metadata": {
    "colab": {
      "provenance": []
    },
    "kernelspec": {
      "name": "python3",
      "display_name": "Python 3"
    },
    "language_info": {
      "name": "python"
    }
  },
  "cells": [
    {
      "cell_type": "code",
      "execution_count": null,
      "metadata": {
        "id": "TK8uC3CUP33s"
      },
      "outputs": [],
      "source": [
        "import requests"
      ]
    },
    {
      "cell_type": "code",
      "source": [
        "#weather API\n",
        "import requests\n",
        "api_key='e4a37345fc8944cfa4e53959242802'\n",
        "city=input(\"enter city: \")\n",
        "url=f\"http://api.weatherapi.com/v1/current.json?key={api_key}&q={city}\"\n",
        "response=requests.get(url)\n",
        "data=response.json()\n",
        "print(data)\n",
        "if response.status_code==200:\n",
        "  #city:name,state:region,country:country,temperature in : c  ,wind speed,humidity,feelslike_c\n",
        "  print(\"city :\",data['location']['name'])\n",
        "  print(\"state:\",data['location']['region'])\n",
        "  print(\"country:\",data['location']['country'])\n",
        "  print(\"temperature(c) :\",data['current']['temp_c'])\n",
        "  print(\"wind speed :\",data['current']['wind_mph'])\n",
        "  print(\"wind direction :\",data['current']['wind_dir'])\n",
        "  print(\"humidity :\",data['current']['humidity'])\n",
        "  print(\"feels like(c):\",data['current']['feelslike_c'])\n",
        "else:\n",
        "    print(data['error']['code'])"
      ],
      "metadata": {
        "colab": {
          "base_uri": "https://localhost:8080/"
        },
        "id": "gJUkYAcQP7JU",
        "outputId": "ee20c0ad-3259-46b7-d4e2-5655446655b8"
      },
      "execution_count": null,
      "outputs": [
        {
          "output_type": "stream",
          "name": "stdout",
          "text": [
            "enter city: amalapuram\n",
            "{'location': {'name': 'Amalapuram', 'region': 'Andhra Pradesh', 'country': 'India', 'lat': 16.58, 'lon': 82.02, 'tz_id': 'Asia/Kolkata', 'localtime_epoch': 1709303398, 'localtime': '2024-03-01 19:59'}, 'current': {'last_updated_epoch': 1709302500, 'last_updated': '2024-03-01 19:45', 'temp_c': 24.5, 'temp_f': 76.0, 'is_day': 0, 'condition': {'text': 'Clear ', 'icon': '//cdn.weatherapi.com/weather/64x64/night/113.png', 'code': 1000}, 'wind_mph': 3.8, 'wind_kph': 6.1, 'wind_degree': 154, 'wind_dir': 'SSE', 'pressure_mb': 1013.0, 'pressure_in': 29.91, 'precip_mm': 0.0, 'precip_in': 0.0, 'humidity': 79, 'cloud': 9, 'feelslike_c': 26.4, 'feelslike_f': 79.5, 'vis_km': 10.0, 'vis_miles': 6.0, 'uv': 1.0, 'gust_mph': 7.2, 'gust_kph': 11.6}}\n",
            "city : Amalapuram\n",
            "state: Andhra Pradesh\n",
            "country: India\n",
            "temperature(c) : 24.5\n",
            "wind speed : 3.8\n",
            "wind direction : SSE\n",
            "humidity : 79\n",
            "feels like(c): 26.4\n"
          ]
        }
      ]
    },
    {
      "cell_type": "code",
      "source": [
        "type(data)"
      ],
      "metadata": {
        "colab": {
          "base_uri": "https://localhost:8080/"
        },
        "id": "KmZeaYr5SF2s",
        "outputId": "406922b6-76c2-4f49-97a4-2f59e59e6cc7"
      },
      "execution_count": null,
      "outputs": [
        {
          "output_type": "execute_result",
          "data": {
            "text/plain": [
              "dict"
            ]
          },
          "metadata": {},
          "execution_count": 24
        }
      ]
    },
    {
      "cell_type": "code",
      "source": [
        "print(\"city!:\",data['location']['name'])"
      ],
      "metadata": {
        "colab": {
          "base_uri": "https://localhost:8080/"
        },
        "id": "pHDXmy07STOt",
        "outputId": "d96629e9-6f50-4448-e9ec-eb7a54c12013"
      },
      "execution_count": null,
      "outputs": [
        {
          "output_type": "stream",
          "name": "stdout",
          "text": [
            "city!: Amalapuram\n"
          ]
        }
      ]
    },
    {
      "cell_type": "code",
      "source": [
        "from requests import Request, Session\n",
        "from requests.exceptions import ConnectionError, Timeout, TooManyRedirects\n",
        "import json\n",
        "\n",
        "url = 'https://sandbox-api.coinmarketcap.com/v1/cryptocurrency/listings/latest'\n",
        "parameters = {\n",
        "  'start':'1',\n",
        "  'limit':'10',\n",
        "  'convert':'USD'\n",
        "}\n",
        "headers = {\n",
        "  'Accepts': 'application/json',\n",
        "  'X-CMC_PRO_API_KEY': '173c4097-693f-49af-8178-c5d43fd9cfc4',\n",
        "}\n",
        "\n",
        "session = Session()\n",
        "session.headers.update(headers)\n",
        "\n",
        "try:\n",
        "  response = session.get(url, params=parameters)\n",
        "  data = json.loads(response.text)\n",
        "  print(data)\n",
        "except (ConnectionError, Timeout, TooManyRedirects) as e:\n",
        "  print(e)"
      ],
      "metadata": {
        "colab": {
          "base_uri": "https://localhost:8080/"
        },
        "id": "qavJZh7c4OYX",
        "outputId": "60c6a1fc-4585-47fd-c1b7-49137ea461b3"
      },
      "execution_count": null,
      "outputs": [
        {
          "output_type": "stream",
          "name": "stdout",
          "text": [
            "{'status': {'timestamp': '2024-03-03T06:26:19.207Z', 'error_code': 0, 'error_message': None, 'elapsed': 1, 'credit_count': 1, 'notice': None}, 'data': [{'id': 67, 'name': 'dzeumtfsvyo', 'symbol': '2veyghmj535', 'slug': 'wga911hlsv8', 'cmc_rank': 3347, 'num_market_pairs': 6889, 'circulating_supply': 6132, 'total_supply': 3532, 'max_supply': 3485, 'infinite_supply': None, 'last_updated': '2024-03-03T06:26:19.207Z', 'date_added': '2024-03-03T06:26:19.207Z', 'tags': ['e7qgap5be4v', 'k22u80m5py', 'v2l3pn8xm3', '2m8p07xm55l', '40f1v4ty3tu', '24swnz6cakn', '43ytwe18dz6', '4k3ii78bii', 'rl8pn7rjbz', 'y18tsjz4bh7'], 'platform': None, 'self_reported_circulating_supply': None, 'self_reported_market_cap': None, 'quote': {'USD': {'price': 0.32655017342207904, 'volume_24h': 3185, 'volume_change_24h': 0.6900783417420038, 'percent_change_1h': 0.1413582288995321, 'percent_change_24h': 0.16392347096983295, 'percent_change_7d': 0.22643675850334288, 'market_cap': 0.8866025148768768, 'market_cap_dominance': 7542, 'fully_diluted_market_cap': 0.3633241052399605, 'last_updated': '2024-03-03T06:26:19.207Z'}}}, {'id': 9929, 'name': 'c7eqaimma1r', 'symbol': '2oq6xpcqqvr', 'slug': 'a3rpc0p9hj8', 'cmc_rank': 3158, 'num_market_pairs': 889, 'circulating_supply': 7719, 'total_supply': 2614, 'max_supply': 3049, 'infinite_supply': None, 'last_updated': '2024-03-03T06:26:19.207Z', 'date_added': '2024-03-03T06:26:19.207Z', 'tags': ['pcmdwc05vrb', '51p35tdo0vs', '9vdgmgl1q6', '2r4o6ye2feb', 'j6l2f5zjn7q', 'nmiya1xz0sh', 'k5bo5wc2rx', 'jvu1adlujjq', 'umf6euxxf9', '2abre5g1x7u'], 'platform': None, 'self_reported_circulating_supply': None, 'self_reported_market_cap': None, 'quote': {'USD': {'price': 0.352346965903499, 'volume_24h': 9396, 'volume_change_24h': 0.2714875858473882, 'percent_change_1h': 0.9419398625315885, 'percent_change_24h': 0.9076743558977078, 'percent_change_7d': 0.8732909890537941, 'market_cap': 0.7017348429478281, 'market_cap_dominance': 5042, 'fully_diluted_market_cap': 0.7032557161182398, 'last_updated': '2024-03-03T06:26:19.207Z'}}}, {'id': 3497, 'name': 'kjgow3iwxk', 'symbol': 'g9b1i478x0m', 'slug': 'y6t0io0ebj', 'cmc_rank': 3909, 'num_market_pairs': 6182, 'circulating_supply': 6201, 'total_supply': 9868, 'max_supply': 5077, 'infinite_supply': None, 'last_updated': '2024-03-03T06:26:19.207Z', 'date_added': '2024-03-03T06:26:19.207Z', 'tags': ['03lqrlaehnhw', '1ask3syfkom', 'i8z2toppy0d', 'cbslvqpy7z', 'h0lkzokkce8', 'tf8hwxxnupi', 'sk9vqh6k35', 'xd8svwxdf1a', 'd3cmolh12mj', 'vmt8hw3kc2'], 'platform': None, 'self_reported_circulating_supply': None, 'self_reported_market_cap': None, 'quote': {'USD': {'price': 0.25398349618853455, 'volume_24h': 5571, 'volume_change_24h': 0.8128886369590052, 'percent_change_1h': 0.30759049217285783, 'percent_change_24h': 0.4975271085178903, 'percent_change_7d': 0.1842519188223064, 'market_cap': 0.597660039302087, 'market_cap_dominance': 1432, 'fully_diluted_market_cap': 0.4241573592596224, 'last_updated': '2024-03-03T06:26:19.207Z'}}}, {'id': 6404, 'name': 'epodtbytf3p', 'symbol': '58k77lznpwf', 'slug': 'yz7ar52ybc9', 'cmc_rank': 3426, 'num_market_pairs': 8170, 'circulating_supply': 7124, 'total_supply': 1598, 'max_supply': 8009, 'infinite_supply': None, 'last_updated': '2024-03-03T06:26:19.207Z', 'date_added': '2024-03-03T06:26:19.207Z', 'tags': ['ubore1vg7bd', 'q49zra6xei', '0ugn0becbh2r', '08s9znm527m7', 'y3nu3lsm5un', '43jy2ip3tg2', '6orja6rc8qx', '5ief838p9yc', 'mlm8matm7n', '3mkd6b6hr15'], 'platform': None, 'self_reported_circulating_supply': None, 'self_reported_market_cap': None, 'quote': {'USD': {'price': 0.20005673649241196, 'volume_24h': 3186, 'volume_change_24h': 0.7680055676728719, 'percent_change_1h': 0.460664496287853, 'percent_change_24h': 0.7128068241450061, 'percent_change_7d': 0.5169205999701534, 'market_cap': 0.8382922283856435, 'market_cap_dominance': 6569, 'fully_diluted_market_cap': 0.1581713365424795, 'last_updated': '2024-03-03T06:26:19.207Z'}}}, {'id': 5226, 'name': 'gbveu1sy7xu', 'symbol': '754teu8fp08', 'slug': 'usro8pmm13g', 'cmc_rank': 1190, 'num_market_pairs': 2431, 'circulating_supply': 3612, 'total_supply': 3802, 'max_supply': 9515, 'infinite_supply': None, 'last_updated': '2024-03-03T06:26:19.207Z', 'date_added': '2024-03-03T06:26:19.207Z', 'tags': ['tvfj8s6rwb', 'ahzbla99d6l', 'kwryrheme', 'vk6b10p3u7', '4vjeghab52t', 'ps0jlivhqz', '4oz9xz31aqf', 'dojwz03oexa', '2s04n65lzql', 'bvbbujjf6u7'], 'platform': None, 'self_reported_circulating_supply': None, 'self_reported_market_cap': None, 'quote': {'USD': {'price': 0.03407577381861193, 'volume_24h': 8750, 'volume_change_24h': 0.07322761694630842, 'percent_change_1h': 0.34739048298579434, 'percent_change_24h': 0.36128843863273863, 'percent_change_7d': 0.6833092768186619, 'market_cap': 0.9470347170146887, 'market_cap_dominance': 7908, 'fully_diluted_market_cap': 0.8669270155603983, 'last_updated': '2024-03-03T06:26:19.207Z'}}}, {'id': 6383, 'name': 'blgdeqzc9u', 'symbol': '3c1jg7dpkwa', 'slug': 'jrzca4fav4', 'cmc_rank': 9107, 'num_market_pairs': 3827, 'circulating_supply': 6163, 'total_supply': 5904, 'max_supply': 199, 'infinite_supply': None, 'last_updated': '2024-03-03T06:26:19.207Z', 'date_added': '2024-03-03T06:26:19.207Z', 'tags': ['au3s79v8ny4', '4cp3be0csaw', 'mxaycx89ux', 'z6aofrhf7ql', 'ilacw0w1lg', 'l0xi7lo0y2', 'tf0wk2hz3pk', 'xqazinou7w', 'cuo0ru2d5v9', 'egdlm5kbeyu'], 'platform': None, 'self_reported_circulating_supply': None, 'self_reported_market_cap': None, 'quote': {'USD': {'price': 0.7823533964804332, 'volume_24h': 3237, 'volume_change_24h': 0.8211989741230059, 'percent_change_1h': 0.8304573690955088, 'percent_change_24h': 0.5751012068268753, 'percent_change_7d': 0.1425931915324603, 'market_cap': 0.10055776593678001, 'market_cap_dominance': 2960, 'fully_diluted_market_cap': 0.919799890838106, 'last_updated': '2024-03-03T06:26:19.207Z'}}}, {'id': 1827, 'name': 'r4snnpahy9', 'symbol': 'kwles98ffuq', 'slug': 'sk8qxpmee7', 'cmc_rank': 4178, 'num_market_pairs': 3945, 'circulating_supply': 5257, 'total_supply': 2642, 'max_supply': 8960, 'infinite_supply': None, 'last_updated': '2024-03-03T06:26:19.207Z', 'date_added': '2024-03-03T06:26:19.207Z', 'tags': ['ak1xx679kea', '6jvjhjvxtcu', '5y2kkrbfhj9', 'cfzmievm2pg', '3ziz30oty0b', 'zap6d76z5m', '1weqdngjfv9j', 'n1kt31e2l3s', 'nb9olbo9ylp', 'ihj6byiszum'], 'platform': None, 'self_reported_circulating_supply': None, 'self_reported_market_cap': None, 'quote': {'USD': {'price': 0.33263497967168476, 'volume_24h': 7247, 'volume_change_24h': 0.7033152993184397, 'percent_change_1h': 0.44664841883943374, 'percent_change_24h': 0.026326507749693695, 'percent_change_7d': 0.7468999381493873, 'market_cap': 0.022427408119380488, 'market_cap_dominance': 4655, 'fully_diluted_market_cap': 0.9192435265400611, 'last_updated': '2024-03-03T06:26:19.207Z'}}}, {'id': 9177, 'name': '732qdc1n1qh', 'symbol': 'l4nu5rggfy', 'slug': 'v46f4q6j1b', 'cmc_rank': 9817, 'num_market_pairs': 1361, 'circulating_supply': 5532, 'total_supply': 5317, 'max_supply': 7032, 'infinite_supply': None, 'last_updated': '2024-03-03T06:26:19.207Z', 'date_added': '2024-03-03T06:26:19.207Z', 'tags': ['zjp3bivarwn', 'e1q7vcy98a', 'n1z3g16rgig', 'cwf96l64qce', 'tinzrfyfb3o', 'y21dffu2rar', '19x7k5cm2u8h', 'u4by17swa9', 'fiiexia84mb', 'oszmiit9u4a'], 'platform': None, 'self_reported_circulating_supply': None, 'self_reported_market_cap': None, 'quote': {'USD': {'price': 0.3966281096206301, 'volume_24h': 6462, 'volume_change_24h': 0.1073251793241814, 'percent_change_1h': 0.9088899301029651, 'percent_change_24h': 0.7331441978376769, 'percent_change_7d': 0.9358355684973312, 'market_cap': 0.7586848242294542, 'market_cap_dominance': 7935, 'fully_diluted_market_cap': 0.2029350078307044, 'last_updated': '2024-03-03T06:26:19.207Z'}}}, {'id': 5893, 'name': 'n48ii5eab27', 'symbol': '04c3ksi30p5g', 'slug': 'si5e8ky9aqd', 'cmc_rank': 7130, 'num_market_pairs': 9766, 'circulating_supply': 7941, 'total_supply': 6127, 'max_supply': 4688, 'infinite_supply': None, 'last_updated': '2024-03-03T06:26:19.207Z', 'date_added': '2024-03-03T06:26:19.207Z', 'tags': ['dwu2sg89kwt', '9twksc3m56t', 'vtiplcbsw5n', 'aog3cayo98s', '2mu7rx0uzm', 'x150c74ws18', 'forz9p9l784', 'mdfi53fl0g8', 'c0x9jo0x4wb', 'wgpuzeh5ll9'], 'platform': None, 'self_reported_circulating_supply': None, 'self_reported_market_cap': None, 'quote': {'USD': {'price': 0.4067311115803931, 'volume_24h': 8680, 'volume_change_24h': 0.31165075017491795, 'percent_change_1h': 0.2231473516959348, 'percent_change_24h': 0.9745032263768447, 'percent_change_7d': 0.7807725703932129, 'market_cap': 0.5539449096376574, 'market_cap_dominance': 2163, 'fully_diluted_market_cap': 0.9054427581589719, 'last_updated': '2024-03-03T06:26:19.207Z'}}}, {'id': 8087, 'name': 'rudukwbpko8', 'symbol': 'ns21uit8ivf', 'slug': '5tiap6798x3', 'cmc_rank': 2314, 'num_market_pairs': 6636, 'circulating_supply': 8585, 'total_supply': 903, 'max_supply': 9632, 'infinite_supply': None, 'last_updated': '2024-03-03T06:26:19.207Z', 'date_added': '2024-03-03T06:26:19.207Z', 'tags': ['qqqwcl3i5ci', 's2sutujfusj', 'v7sqtecqhrq', '521ucrconqq', 'ml8leox3up', '7u8ew1x0fbq', 'gt1vsppc9ke', 'b7h0dnnuej', 'pkwvfopbax', '27qvykdanuu'], 'platform': None, 'self_reported_circulating_supply': None, 'self_reported_market_cap': None, 'quote': {'USD': {'price': 0.17532808649790455, 'volume_24h': 3201, 'volume_change_24h': 0.15005676237866705, 'percent_change_1h': 0.6604785763442333, 'percent_change_24h': 0.11766559694674839, 'percent_change_7d': 0.041661827650901095, 'market_cap': 0.35790387502232046, 'market_cap_dominance': 8148, 'fully_diluted_market_cap': 0.8041713567689088, 'last_updated': '2024-03-03T06:26:19.207Z'}}}]}\n"
          ]
        }
      ]
    },
    {
      "cell_type": "code",
      "source": [
        "from sklearn.linear_model import LinearRegression\n",
        "LR=LinearRegression()"
      ],
      "metadata": {
        "id": "5efVaKsQCtg0"
      },
      "execution_count": null,
      "outputs": []
    },
    {
      "cell_type": "code",
      "source": [
        "t=[[5],[7],[12],[16],[20]]\n",
        "m=[40,120,180,210,240]\n",
        "LR.fit(t,m)"
      ],
      "metadata": {
        "colab": {
          "base_uri": "https://localhost:8080/",
          "height": 74
        },
        "id": "LkCipOaFC6RA",
        "outputId": "a2069778-65a2-40c3-87ab-6608c3c0b69b"
      },
      "execution_count": null,
      "outputs": [
        {
          "output_type": "execute_result",
          "data": {
            "text/plain": [
              "LinearRegression()"
            ],
            "text/html": [
              "<style>#sk-container-id-1 {color: black;background-color: white;}#sk-container-id-1 pre{padding: 0;}#sk-container-id-1 div.sk-toggleable {background-color: white;}#sk-container-id-1 label.sk-toggleable__label {cursor: pointer;display: block;width: 100%;margin-bottom: 0;padding: 0.3em;box-sizing: border-box;text-align: center;}#sk-container-id-1 label.sk-toggleable__label-arrow:before {content: \"▸\";float: left;margin-right: 0.25em;color: #696969;}#sk-container-id-1 label.sk-toggleable__label-arrow:hover:before {color: black;}#sk-container-id-1 div.sk-estimator:hover label.sk-toggleable__label-arrow:before {color: black;}#sk-container-id-1 div.sk-toggleable__content {max-height: 0;max-width: 0;overflow: hidden;text-align: left;background-color: #f0f8ff;}#sk-container-id-1 div.sk-toggleable__content pre {margin: 0.2em;color: black;border-radius: 0.25em;background-color: #f0f8ff;}#sk-container-id-1 input.sk-toggleable__control:checked~div.sk-toggleable__content {max-height: 200px;max-width: 100%;overflow: auto;}#sk-container-id-1 input.sk-toggleable__control:checked~label.sk-toggleable__label-arrow:before {content: \"▾\";}#sk-container-id-1 div.sk-estimator input.sk-toggleable__control:checked~label.sk-toggleable__label {background-color: #d4ebff;}#sk-container-id-1 div.sk-label input.sk-toggleable__control:checked~label.sk-toggleable__label {background-color: #d4ebff;}#sk-container-id-1 input.sk-hidden--visually {border: 0;clip: rect(1px 1px 1px 1px);clip: rect(1px, 1px, 1px, 1px);height: 1px;margin: -1px;overflow: hidden;padding: 0;position: absolute;width: 1px;}#sk-container-id-1 div.sk-estimator {font-family: monospace;background-color: #f0f8ff;border: 1px dotted black;border-radius: 0.25em;box-sizing: border-box;margin-bottom: 0.5em;}#sk-container-id-1 div.sk-estimator:hover {background-color: #d4ebff;}#sk-container-id-1 div.sk-parallel-item::after {content: \"\";width: 100%;border-bottom: 1px solid gray;flex-grow: 1;}#sk-container-id-1 div.sk-label:hover label.sk-toggleable__label {background-color: #d4ebff;}#sk-container-id-1 div.sk-serial::before {content: \"\";position: absolute;border-left: 1px solid gray;box-sizing: border-box;top: 0;bottom: 0;left: 50%;z-index: 0;}#sk-container-id-1 div.sk-serial {display: flex;flex-direction: column;align-items: center;background-color: white;padding-right: 0.2em;padding-left: 0.2em;position: relative;}#sk-container-id-1 div.sk-item {position: relative;z-index: 1;}#sk-container-id-1 div.sk-parallel {display: flex;align-items: stretch;justify-content: center;background-color: white;position: relative;}#sk-container-id-1 div.sk-item::before, #sk-container-id-1 div.sk-parallel-item::before {content: \"\";position: absolute;border-left: 1px solid gray;box-sizing: border-box;top: 0;bottom: 0;left: 50%;z-index: -1;}#sk-container-id-1 div.sk-parallel-item {display: flex;flex-direction: column;z-index: 1;position: relative;background-color: white;}#sk-container-id-1 div.sk-parallel-item:first-child::after {align-self: flex-end;width: 50%;}#sk-container-id-1 div.sk-parallel-item:last-child::after {align-self: flex-start;width: 50%;}#sk-container-id-1 div.sk-parallel-item:only-child::after {width: 0;}#sk-container-id-1 div.sk-dashed-wrapped {border: 1px dashed gray;margin: 0 0.4em 0.5em 0.4em;box-sizing: border-box;padding-bottom: 0.4em;background-color: white;}#sk-container-id-1 div.sk-label label {font-family: monospace;font-weight: bold;display: inline-block;line-height: 1.2em;}#sk-container-id-1 div.sk-label-container {text-align: center;}#sk-container-id-1 div.sk-container {/* jupyter's `normalize.less` sets `[hidden] { display: none; }` but bootstrap.min.css set `[hidden] { display: none !important; }` so we also need the `!important` here to be able to override the default hidden behavior on the sphinx rendered scikit-learn.org. See: https://github.com/scikit-learn/scikit-learn/issues/21755 */display: inline-block !important;position: relative;}#sk-container-id-1 div.sk-text-repr-fallback {display: none;}</style><div id=\"sk-container-id-1\" class=\"sk-top-container\"><div class=\"sk-text-repr-fallback\"><pre>LinearRegression()</pre><b>In a Jupyter environment, please rerun this cell to show the HTML representation or trust the notebook. <br />On GitHub, the HTML representation is unable to render, please try loading this page with nbviewer.org.</b></div><div class=\"sk-container\" hidden><div class=\"sk-item\"><div class=\"sk-estimator sk-toggleable\"><input class=\"sk-toggleable__control sk-hidden--visually\" id=\"sk-estimator-id-1\" type=\"checkbox\" checked><label for=\"sk-estimator-id-1\" class=\"sk-toggleable__label sk-toggleable__label-arrow\">LinearRegression</label><div class=\"sk-toggleable__content\"><pre>LinearRegression()</pre></div></div></div></div></div>"
            ]
          },
          "metadata": {},
          "execution_count": 6
        }
      ]
    },
    {
      "cell_type": "code",
      "source": [
        "LR.predict([[5.5]])"
      ],
      "metadata": {
        "colab": {
          "base_uri": "https://localhost:8080/"
        },
        "id": "1PEkkokDDy1c",
        "outputId": "9eaa0ca8-6936-4be0-fba5-1fc7d8353540"
      },
      "execution_count": null,
      "outputs": [
        {
          "output_type": "execute_result",
          "data": {
            "text/plain": [
              "array([78.64935065])"
            ]
          },
          "metadata": {},
          "execution_count": 16
        }
      ]
    },
    {
      "cell_type": "code",
      "source": [
        "from matplotlib import pyplot as plt"
      ],
      "metadata": {
        "id": "UCPiLyJoEh3J"
      },
      "execution_count": null,
      "outputs": []
    },
    {
      "cell_type": "code",
      "source": [
        "#plot the data\n",
        "plt.scatter(t,m,color='black')\n",
        "#plot linear regression line\n",
        "y_pred=LR.predict(t)  #t=5,7,12,16,20\n",
        "print(y_pred)\n",
        "plt.plot(t,y_pred,color='blue',linewidth=3,marker='H')\n",
        "plt.xlabel('time')\n",
        "plt.ylabel('mass')\n",
        "plt.title('Linear regression')\n",
        "plt.show()"
      ],
      "metadata": {
        "colab": {
          "base_uri": "https://localhost:8080/",
          "height": 489
        },
        "id": "K6fH73AeEluS",
        "outputId": "2de93add-c230-4c64-d485-45274fcb186a"
      },
      "execution_count": null,
      "outputs": [
        {
          "output_type": "stream",
          "name": "stdout",
          "text": [
            "[ 72.54545455  96.96103896 158.         206.83116883 255.66233766]\n"
          ]
        },
        {
          "output_type": "display_data",
          "data": {
            "text/plain": [
              "<Figure size 640x480 with 1 Axes>"
            ],
            "image/png": "[encoded data removed]"
          },
          "metadata": {}
        }
      ]
    },
    {
      "cell_type": "code",
      "source": [
        "import numpy as np"
      ],
      "metadata": {
        "id": "WjZnIr9IL3D3"
      },
      "execution_count": null,
      "outputs": []
    },
    {
      "cell_type": "code",
      "source": [
        "from sklearn.linear_model import LogisticRegression"
      ],
      "metadata": {
        "id": "rt6utp-lFqBX"
      },
      "execution_count": null,
      "outputs": []
    },
    {
      "cell_type": "code",
      "source": [
        "# Distance and corresponding probability data\n",
        "distances = np.array([1,2,5,10,15,20, 21, 22, 23, 24, 25, 26, 27, 28, 29, 30,35,40,41,47,50]).reshape(-1, 1)\n",
        "probabilities = np.array([1,1,1,1,1,1,0.9, 0.85, 0.73, 0.67, 0.5, 0.47, 0.39, 0.31, 0.25, 0.15,0,0,0,0,0])\n",
        "#convert probabilities to binary labels\n",
        "threshold=0.5\n",
        "binary_labels=(probabilities > threshold)\n",
        "#creates and fit logistic regression model\n",
        "logr=LogisticRegression()\n",
        "logr.fit(distances,binary_labels)\n",
        "p=logr.predict([[24]])\n",
        "print(p)"
      ],
      "metadata": {
        "colab": {
          "base_uri": "https://localhost:8080/"
        },
        "id": "xJZkvI69McfN",
        "outputId": "9f7bbeb5-e513-4a6f-b131-e48efe4877be"
      },
      "execution_count": null,
      "outputs": [
        {
          "output_type": "stream",
          "name": "stdout",
          "text": [
            "[ True]\n"
          ]
        }
      ]
    },
    {
      "cell_type": "code",
      "source": [
        "if p==True:\n",
        "  print(\"goal\")\n",
        "else:\n",
        "  print(\"no goal\")"
      ],
      "metadata": {
        "colab": {
          "base_uri": "https://localhost:8080/"
        },
        "id": "Bavar76jN3BG",
        "outputId": "46307d37-7526-450c-d90f-db88ef6de909"
      },
      "execution_count": null,
      "outputs": [
        {
          "output_type": "stream",
          "name": "stdout",
          "text": [
            "goal\n"
          ]
        }
      ]
    },
    {
      "cell_type": "code",
      "source": [
        "#predict 100 distances between 1 and 50\n",
        "#generatee distances for prediction\n",
        "dist=np.linspace(1,50,100).reshape(-1,1)\n",
        "print(dist) #distances\n",
        "#make predictions using the model\n",
        "prob=logr.predict_proba(dist) #probabilities- prediction\n",
        "print(prob)"
      ],
      "metadata": {
        "colab": {
          "base_uri": "https://localhost:8080/"
        },
        "id": "S1GwVmiUPW7I",
        "outputId": "7938802b-cd3d-4c40-f0b0-bec6105f84f4"
      },
      "execution_count": null,
      "outputs": [
        {
          "output_type": "stream",
          "name": "stdout",
          "text": [
            "[[ 1.        ]\n",
            " [ 1.49494949]\n",
            " [ 1.98989899]\n",
            " [ 2.48484848]\n",
            " [ 2.97979798]\n",
            " [ 3.47474747]\n",
            " [ 3.96969697]\n",
            " [ 4.46464646]\n",
            " [ 4.95959596]\n",
            " [ 5.45454545]\n",
            " [ 5.94949495]\n",
            " [ 6.44444444]\n",
            " [ 6.93939394]\n",
            " [ 7.43434343]\n",
            " [ 7.92929293]\n",
            " [ 8.42424242]\n",
            " [ 8.91919192]\n",
            " [ 9.41414141]\n",
            " [ 9.90909091]\n",
            " [10.4040404 ]\n",
            " [10.8989899 ]\n",
            " [11.39393939]\n",
            " [11.88888889]\n",
            " [12.38383838]\n",
            " [12.87878788]\n",
            " [13.37373737]\n",
            " [13.86868687]\n",
            " [14.36363636]\n",
            " [14.85858586]\n",
            " [15.35353535]\n",
            " [15.84848485]\n",
            " [16.34343434]\n",
            " [16.83838384]\n",
            " [17.33333333]\n",
            " [17.82828283]\n",
            " [18.32323232]\n",
            " [18.81818182]\n",
            " [19.31313131]\n",
            " [19.80808081]\n",
            " [20.3030303 ]\n",
            " [20.7979798 ]\n",
            " [21.29292929]\n",
            " [21.78787879]\n",
            " [22.28282828]\n",
            " [22.77777778]\n",
            " [23.27272727]\n",
            " [23.76767677]\n",
            " [24.26262626]\n",
            " [24.75757576]\n",
            " [25.25252525]\n",
            " [25.74747475]\n",
            " [26.24242424]\n",
            " [26.73737374]\n",
            " [27.23232323]\n",
            " [27.72727273]\n",
            " [28.22222222]\n",
            " [28.71717172]\n",
            " [29.21212121]\n",
            " [29.70707071]\n",
            " [30.2020202 ]\n",
            " [30.6969697 ]\n",
            " [31.19191919]\n",
            " [31.68686869]\n",
            " [32.18181818]\n",
            " [32.67676768]\n",
            " [33.17171717]\n",
            " [33.66666667]\n",
            " [34.16161616]\n",
            " [34.65656566]\n",
            " [35.15151515]\n",
            " [35.64646465]\n",
            " [36.14141414]\n",
            " [36.63636364]\n",
            " [37.13131313]\n",
            " [37.62626263]\n",
            " [38.12121212]\n",
            " [38.61616162]\n",
            " [39.11111111]\n",
            " [39.60606061]\n",
            " [40.1010101 ]\n",
            " [40.5959596 ]\n",
            " [41.09090909]\n",
            " [41.58585859]\n",
            " [42.08080808]\n",
            " [42.57575758]\n",
            " [43.07070707]\n",
            " [43.56565657]\n",
            " [44.06060606]\n",
            " [44.55555556]\n",
            " [45.05050505]\n",
            " [45.54545455]\n",
            " [46.04040404]\n",
            " [46.53535354]\n",
            " [47.03030303]\n",
            " [47.52525253]\n",
            " [48.02020202]\n",
            " [48.51515152]\n",
            " [49.01010101]\n",
            " [49.50505051]\n",
            " [50.        ]]\n",
            "[[7.36521955e-13 1.00000000e+00]\n",
            " [1.32649447e-12 1.00000000e+00]\n",
            " [2.38919995e-12 1.00000000e+00]\n",
            " [4.30344649e-12 1.00000000e+00]\n",
            " [7.75135511e-12 1.00000000e+00]\n",
            " [1.39614986e-11 1.00000000e+00]\n",
            " [2.51469956e-11 1.00000000e+00]\n",
            " [4.52937687e-11 1.00000000e+00]\n",
            " [8.15814083e-11 1.00000000e+00]\n",
            " [1.46941792e-10 1.00000000e+00]\n",
            " [2.64666289e-10 1.00000000e+00]\n",
            " [4.76707784e-10 1.00000000e+00]\n",
            " [8.58629612e-10 9.99999999e-01]\n",
            " [1.54653357e-09 9.99999998e-01]\n",
            " [2.78556245e-09 9.99999997e-01]\n",
            " [5.01725839e-09 9.99999995e-01]\n",
            " [9.03691089e-09 9.99999991e-01]\n",
            " [1.62769695e-08 9.99999984e-01]\n",
            " [2.93175104e-08 9.99999971e-01]\n",
            " [5.28056784e-08 9.99999947e-01]\n",
            " [9.51117461e-08 9.99999905e-01]\n",
            " [1.71311954e-07 9.99999829e-01]\n",
            " [3.08561086e-07 9.99999691e-01]\n",
            " [5.55769353e-07 9.99999444e-01]\n",
            " [1.00103197e-06 9.99998999e-01]\n",
            " [1.80302250e-06 9.99998197e-01]\n",
            " [3.24753669e-06 9.99996752e-01]\n",
            " [5.84933484e-06 9.99994151e-01]\n",
            " [1.05355690e-05 9.99989464e-01]\n",
            " [1.89761400e-05 9.99981024e-01]\n",
            " [3.41786433e-05 9.99965821e-01]\n",
            " [6.15596971e-05 9.99938440e-01]\n",
            " [1.10873716e-04 9.99889126e-01]\n",
            " [1.99684141e-04 9.99800316e-01]\n",
            " [3.59606595e-04 9.99640393e-01]\n",
            " [6.47524328e-04 9.99352476e-01]\n",
            " [1.16569355e-03 9.98834306e-01]\n",
            " [2.09764764e-03 9.97902352e-01]\n",
            " [3.77187106e-03 9.96228129e-01]\n",
            " [6.77329472e-03 9.93226705e-01]\n",
            " [1.21339773e-02 9.87866023e-01]\n",
            " [2.16448809e-02 9.78355119e-01]\n",
            " [3.83214687e-02 9.61678531e-01]\n",
            " [6.69672780e-02 9.33032722e-01]\n",
            " [1.14477216e-01 8.85522784e-01]\n",
            " [1.88870123e-01 8.11129877e-01]\n",
            " [2.95475997e-01 7.04524003e-01]\n",
            " [4.30330951e-01 5.69669049e-01]\n",
            " [5.76380595e-01 4.23619405e-01]\n",
            " [7.10202259e-01 2.89797741e-01]\n",
            " [8.15296551e-01 1.84703449e-01]\n",
            " [8.88274330e-01 1.11725670e-01]\n",
            " [9.34726505e-01 6.52734947e-02]\n",
            " [9.62676767e-01 3.73232326e-02]\n",
            " [9.78928465e-01 2.10715348e-02]\n",
            " [9.88190478e-01 1.18095223e-02]\n",
            " [9.93408775e-01 6.59122462e-03]\n",
            " [9.96329817e-01 3.67018284e-03]\n",
            " [9.97958997e-01 2.04100338e-03]\n",
            " [9.98865813e-01 1.13418691e-03]\n",
            " [9.99369986e-01 6.30014050e-04]\n",
            " [9.99650121e-01 3.49879429e-04]\n",
            " [9.99805718e-01 1.94281951e-04]\n",
            " [9.99892126e-01 1.07873915e-04]\n",
            " [9.99940106e-01 5.98940572e-05]\n",
            " [9.99966746e-01 3.32538365e-05]\n",
            " [9.99981537e-01 1.84626754e-05]\n",
            " [9.99989750e-01 1.02504906e-05]\n",
            " [9.99994309e-01 5.69105898e-06]\n",
            " [9.99996840e-01 3.15966209e-06]\n",
            " [9.99998246e-01 1.75423472e-06]\n",
            " [9.99999026e-01 9.73945141e-07]\n",
            " [9.99999459e-01 5.40730836e-07]\n",
            " [9.99999700e-01 3.00211755e-07]\n",
            " [9.99999833e-01 1.66676436e-07]\n",
            " [9.99999907e-01 9.25381239e-08]\n",
            " [9.99999949e-01 5.13768131e-08]\n",
            " [9.99999971e-01 2.85242100e-08]\n",
            " [9.99999984e-01 1.58365320e-08]\n",
            " [9.99999991e-01 8.79238183e-09]\n",
            " [9.99999995e-01 4.88149664e-09]\n",
            " [9.99999997e-01 2.71018819e-09]\n",
            " [9.99999998e-01 1.50468608e-09]\n",
            " [9.99999999e-01 8.35395932e-10]\n",
            " [1.00000000e+00 4.63808613e-10]\n",
            " [1.00000000e+00 2.57504761e-10]\n",
            " [1.00000000e+00 1.42965654e-10]\n",
            " [1.00000000e+00 7.93739822e-11]\n",
            " [1.00000000e+00 4.40681301e-11]\n",
            " [1.00000000e+00 2.44664566e-11]\n",
            " [1.00000000e+00 1.35836827e-11]\n",
            " [1.00000000e+00 7.54160848e-12]\n",
            " [1.00000000e+00 4.18707206e-12]\n",
            " [1.00000000e+00 2.32464633e-12]\n",
            " [1.00000000e+00 1.29063471e-12]\n",
            " [1.00000000e+00 7.16555436e-13]\n",
            " [1.00000000e+00 3.97828826e-13]\n",
            " [1.00000000e+00 2.20873036e-13]\n",
            " [1.00000000e+00 1.22627861e-13]\n",
            " [1.00000000e+00 6.80825177e-14]]\n"
          ]
        }
      ]
    },
    {
      "cell_type": "code",
      "source": [
        "#plot the data\n",
        "plt.plot(dist,prob,color='blue',label='logistic Regression')\n",
        "#plot logic regression line\n",
        "plt.plot(t,y_pred,color='black',linewidth=3,marker='H')\n",
        "plt.xlabel('distance')\n",
        "plt.ylabel('probability')\n",
        "plt.title('Distance vs probability of scoring ')\n",
        "plt.legend()\n",
        "plt.grid(True)\n",
        "plt.show()"
      ],
      "metadata": {
        "colab": {
          "base_uri": "https://localhost:8080/",
          "height": 472
        },
        "id": "hBmr4OvmQX4q",
        "outputId": "c5dd0c20-1e13-4b4a-abef-3e55b99f44b9"
      },
      "execution_count": null,
      "outputs": [
        {
          "output_type": "display_data",
          "data": {
            "text/plain": [
              "<Figure size 640x480 with 1 Axes>"
            ],
            "image/png": "[encoded data removed]"
          },
          "metadata": {}
        }
      ]
    },
    {
      "cell_type": "code",
      "source": [
        "import pandas as pd\n",
        "df=pd.read_csv(\"/content/demodt.txt\",sep=\",\")\n",
        "df"
      ],
      "metadata": {
        "colab": {
          "base_uri": "https://localhost:8080/",
          "height": 864
        },
        "id": "kzGzQoDvSJ3E",
        "outputId": "9b33497e-1711-4b23-c851-f174fde20da6"
      },
      "execution_count": null,
      "outputs": [
        {
          "output_type": "execute_result",
          "data": {
            "text/plain": [
              "   State  Literacy  Cleanliness  Crime_Rate  Good\n",
              "0      A        92           90          54     0\n",
              "1      B        56           67          50     1\n",
              "2      C        78           85          62     0\n",
              "3      D        63           72          48     1\n",
              "4      E        85           79          55     0\n",
              "5      F        71           68          58     0\n",
              "6      G        80           83          51     0\n",
              "7      H        67           74          47     1\n",
              "8      I        89           88          53     0\n",
              "9      J        58           65          49     1\n",
              "10     K        82           81          60     0\n",
              "11     L        75           78          57     0\n",
              "12     M        69           70          46     1\n",
              "13     N        87           86          52     0\n",
              "14     O        61           63          45     1\n",
              "15     P        93           91          56     0\n",
              "16     Q        55           66          61     0\n",
              "17     R        76           77          59     0\n",
              "18     S        84           82          44     1\n",
              "19     T        70           69          50     1\n",
              "20     U        94           92          57     0\n",
              "21     V        59           64          52     0\n",
              "22     W        83           80          43     1\n",
              "23     X        74           76          63     0\n",
              "24     Y        68           73          41     1\n",
              "25     Z        88           84          47     1"
            ],
            "text/html": [
              "\n",
              "  <div id=\"df-1d9d4f41-e75d-4ae9-b380-cc181c702ea5\" class=\"colab-df-container\">\n",
              "    <div>\n",
              "<style scoped>\n",
              "    .dataframe tbody tr th:only-of-type {\n",
              "        vertical-align: middle;\n",
              "    }\n",
              "\n",
              "    .dataframe tbody tr th {\n",
              "        vertical-align: top;\n",
              "    }\n",
              "\n",
              "    .dataframe thead th {\n",
              "        text-align: right;\n",
              "    }\n",
              "</style>\n",
              "<table border=\"1\" class=\"dataframe\">\n",
              "  <thead>\n",
              "    <tr style=\"text-align: right;\">\n",
              "      <th></th>\n",
              "      <th>State</th>\n",
              "      <th>Literacy</th>\n",
              "      <th>Cleanliness</th>\n",
              "      <th>Crime_Rate</th>\n",
              "      <th>Good</th>\n",
              "    </tr>\n",
              "  </thead>\n",
              "  <tbody>\n",
              "    <tr>\n",
              "      <th>0</th>\n",
              "      <td>A</td>\n",
              "      <td>92</td>\n",
              "      <td>90</td>\n",
              "      <td>54</td>\n",
              "      <td>0</td>\n",
              "    </tr>\n",
              "    <tr>\n",
              "      <th>1</th>\n",
              "      <td>B</td>\n",
              "      <td>56</td>\n",
              "      <td>67</td>\n",
              "      <td>50</td>\n",
              "      <td>1</td>\n",
              "    </tr>\n",
              "    <tr>\n",
              "      <th>2</th>\n",
              "      <td>C</td>\n",
              "      <td>78</td>\n",
              "      <td>85</td>\n",
              "      <td>62</td>\n",
              "      <td>0</td>\n",
              "    </tr>\n",
              "    <tr>\n",
              "      <th>3</th>\n",
              "      <td>D</td>\n",
              "      <td>63</td>\n",
              "      <td>72</td>\n",
              "      <td>48</td>\n",
              "      <td>1</td>\n",
              "    </tr>\n",
              "    <tr>\n",
              "      <th>4</th>\n",
              "      <td>E</td>\n",
              "      <td>85</td>\n",
              "      <td>79</td>\n",
              "      <td>55</td>\n",
              "      <td>0</td>\n",
              "    </tr>\n",
              "    <tr>\n",
              "      <th>5</th>\n",
              "      <td>F</td>\n",
              "      <td>71</td>\n",
              "      <td>68</td>\n",
              "      <td>58</td>\n",
              "      <td>0</td>\n",
              "    </tr>\n",
              "    <tr>\n",
              "      <th>6</th>\n",
              "      <td>G</td>\n",
              "      <td>80</td>\n",
              "      <td>83</td>\n",
              "      <td>51</td>\n",
              "      <td>0</td>\n",
              "    </tr>\n",
              "    <tr>\n",
              "      <th>7</th>\n",
              "      <td>H</td>\n",
              "      <td>67</td>\n",
              "      <td>74</td>\n",
              "      <td>47</td>\n",
              "      <td>1</td>\n",
              "    </tr>\n",
              "    <tr>\n",
              "      <th>8</th>\n",
              "      <td>I</td>\n",
              "      <td>89</td>\n",
              "      <td>88</td>\n",
              "      <td>53</td>\n",
              "      <td>0</td>\n",
              "    </tr>\n",
              "    <tr>\n",
              "      <th>9</th>\n",
              "      <td>J</td>\n",
              "      <td>58</td>\n",
              "      <td>65</td>\n",
              "      <td>49</td>\n",
              "      <td>1</td>\n",
              "    </tr>\n",
              "    <tr>\n",
              "      <th>10</th>\n",
              "      <td>K</td>\n",
              "      <td>82</td>\n",
              "      <td>81</td>\n",
              "      <td>60</td>\n",
              "      <td>0</td>\n",
              "    </tr>\n",
              "    <tr>\n",
              "      <th>11</th>\n",
              "      <td>L</td>\n",
              "      <td>75</td>\n",
              "      <td>78</td>\n",
              "      <td>57</td>\n",
              "      <td>0</td>\n",
              "    </tr>\n",
              "    <tr>\n",
              "      <th>12</th>\n",
              "      <td>M</td>\n",
              "      <td>69</td>\n",
              "      <td>70</td>\n",
              "      <td>46</td>\n",
              "      <td>1</td>\n",
              "    </tr>\n",
              "    <tr>\n",
              "      <th>13</th>\n",
              "      <td>N</td>\n",
              "      <td>87</td>\n",
              "      <td>86</td>\n",
              "      <td>52</td>\n",
              "      <td>0</td>\n",
              "    </tr>\n",
              "    <tr>\n",
              "      <th>14</th>\n",
              "      <td>O</td>\n",
              "      <td>61</td>\n",
              "      <td>63</td>\n",
              "      <td>45</td>\n",
              "      <td>1</td>\n",
              "    </tr>\n",
              "    <tr>\n",
              "      <th>15</th>\n",
              "      <td>P</td>\n",
              "      <td>93</td>\n",
              "      <td>91</td>\n",
              "      <td>56</td>\n",
              "      <td>0</td>\n",
              "    </tr>\n",
              "    <tr>\n",
              "      <th>16</th>\n",
              "      <td>Q</td>\n",
              "      <td>55</td>\n",
              "      <td>66</td>\n",
              "      <td>61</td>\n",
              "      <td>0</td>\n",
              "    </tr>\n",
              "    <tr>\n",
              "      <th>17</th>\n",
              "      <td>R</td>\n",
              "      <td>76</td>\n",
              "      <td>77</td>\n",
              "      <td>59</td>\n",
              "      <td>0</td>\n",
              "    </tr>\n",
              "    <tr>\n",
              "      <th>18</th>\n",
              "      <td>S</td>\n",
              "      <td>84</td>\n",
              "      <td>82</td>\n",
              "      <td>44</td>\n",
              "      <td>1</td>\n",
              "    </tr>\n",
              "    <tr>\n",
              "      <th>19</th>\n",
              "      <td>T</td>\n",
              "      <td>70</td>\n",
              "      <td>69</td>\n",
              "      <td>50</td>\n",
              "      <td>1</td>\n",
              "    </tr>\n",
              "    <tr>\n",
              "      <th>20</th>\n",
              "      <td>U</td>\n",
              "      <td>94</td>\n",
              "      <td>92</td>\n",
              "      <td>57</td>\n",
              "      <td>0</td>\n",
              "    </tr>\n",
              "    <tr>\n",
              "      <th>21</th>\n",
              "      <td>V</td>\n",
              "      <td>59</td>\n",
              "      <td>64</td>\n",
              "      <td>52</td>\n",
              "      <td>0</td>\n",
              "    </tr>\n",
              "    <tr>\n",
              "      <th>22</th>\n",
              "      <td>W</td>\n",
              "      <td>83</td>\n",
              "      <td>80</td>\n",
              "      <td>43</td>\n",
              "      <td>1</td>\n",
              "    </tr>\n",
              "    <tr>\n",
              "      <th>23</th>\n",
              "      <td>X</td>\n",
              "      <td>74</td>\n",
              "      <td>76</td>\n",
              "      <td>63</td>\n",
              "      <td>0</td>\n",
              "    </tr>\n",
              "    <tr>\n",
              "      <th>24</th>\n",
              "      <td>Y</td>\n",
              "      <td>68</td>\n",
              "      <td>73</td>\n",
              "      <td>41</td>\n",
              "      <td>1</td>\n",
              "    </tr>\n",
              "    <tr>\n",
              "      <th>25</th>\n",
              "      <td>Z</td>\n",
              "      <td>88</td>\n",
              "      <td>84</td>\n",
              "      <td>47</td>\n",
              "      <td>1</td>\n",
              "    </tr>\n",
              "  </tbody>\n",
              "</table>\n",
              "</div>\n",
              "    <div class=\"colab-df-buttons\">\n",
              "\n",
              "  <div class=\"colab-df-container\">\n",
              "    <button class=\"colab-df-convert\" onclick=\"convertToInteractive('df-1d9d4f41-e75d-4ae9-b380-cc181c702ea5')\"\n",
              "            title=\"Convert this dataframe to an interactive table.\"\n",
              "            style=\"display:none;\">\n",
              "\n",
              "  <svg xmlns=\"http://www.w3.org/2000/svg\" height=\"24px\" viewBox=\"0 -960 960 960\">\n",
              "    <path d=\"M120-120v-720h720v720H120Zm60-500h600v-160H180v160Zm220 220h160v-160H400v160Zm0 220h160v-160H400v160ZM180-400h160v-160H180v160Zm440 0h160v-160H620v160ZM180-180h160v-160H180v160Zm440 0h160v-160H620v160Z\"/>\n",
              "  </svg>\n",
              "    </button>\n",
              "\n",
              "  <style>\n",
              "    .colab-df-container {\n",
              "      display:flex;\n",
              "      gap: 12px;\n",
              "    }\n",
              "\n",
              "    .colab-df-convert {\n",
              "      background-color: #E8F0FE;\n",
              "      border: none;\n",
              "      border-radius: 50%;\n",
              "      cursor: pointer;\n",
              "      display: none;\n",
              "      fill: #1967D2;\n",
              "      height: 32px;\n",
              "      padding: 0 0 0 0;\n",
              "      width: 32px;\n",
              "    }\n",
              "\n",
              "    .colab-df-convert:hover {\n",
              "      background-color: #E2EBFA;\n",
              "      box-shadow: 0px 1px 2px rgba(60, 64, 67, 0.3), 0px 1px 3px 1px rgba(60, 64, 67, 0.15);\n",
              "      fill: #174EA6;\n",
              "    }\n",
              "\n",
              "    .colab-df-buttons div {\n",
              "      margin-bottom: 4px;\n",
              "    }\n",
              "\n",
              "    [theme=dark] .colab-df-convert {\n",
              "      background-color: #3B4455;\n",
              "      fill: #D2E3FC;\n",
              "    }\n",
              "\n",
              "    [theme=dark] .colab-df-convert:hover {\n",
              "      background-color: #434B5C;\n",
              "      box-shadow: 0px 1px 3px 1px rgba(0, 0, 0, 0.15);\n",
              "      filter: drop-shadow(0px 1px 2px rgba(0, 0, 0, 0.3));\n",
              "      fill: #FFFFFF;\n",
              "    }\n",
              "  </style>\n",
              "\n",
              "    <script>\n",
              "      const buttonEl =\n",
              "        document.querySelector('#df-1d9d4f41-e75d-4ae9-b380-cc181c702ea5 button.colab-df-convert');\n",
              "      buttonEl.style.display =\n",
              "        google.colab.kernel.accessAllowed ? 'block' : 'none';\n",
              "\n",
              "      async function convertToInteractive(key) {\n",
              "        const element = document.querySelector('#df-1d9d4f41-e75d-4ae9-b380-cc181c702ea5');\n",
              "        const dataTable =\n",
              "          await google.colab.kernel.invokeFunction('convertToInteractive',\n",
              "                                                    [key], {});\n",
              "        if (!dataTable) return;\n",
              "\n",
              "        const docLinkHtml = 'Like what you see? Visit the ' +\n",
              "          '<a target=\"_blank\" href=https://colab.research.google.com/notebooks/data_table.ipynb>data table notebook</a>'\n",
              "          + ' to learn more about interactive tables.';\n",
              "        element.innerHTML = '';\n",
              "        dataTable['output_type'] = 'display_data';\n",
              "        await google.colab.output.renderOutput(dataTable, element);\n",
              "        const docLink = document.createElement('div');\n",
              "        docLink.innerHTML = docLinkHtml;\n",
              "        element.appendChild(docLink);\n",
              "      }\n",
              "    </script>\n",
              "  </div>\n",
              "\n",
              "\n",
              "<div id=\"df-a2065b52-ecb2-43e1-85a8-32ca36278aa2\">\n",
              "  <button class=\"colab-df-quickchart\" onclick=\"quickchart('df-a2065b52-ecb2-43e1-85a8-32ca36278aa2')\"\n",
              "            title=\"Suggest charts\"\n",
              "            style=\"display:none;\">\n",
              "\n",
              "<svg xmlns=\"http://www.w3.org/2000/svg\" height=\"24px\"viewBox=\"0 0 24 24\"\n",
              "     width=\"24px\">\n",
              "    <g>\n",
              "        <path d=\"M19 3H5c-1.1 0-2 .9-2 2v14c0 1.1.9 2 2 2h14c1.1 0 2-.9 2-2V5c0-1.1-.9-2-2-2zM9 17H7v-7h2v7zm4 0h-2V7h2v10zm4 0h-2v-4h2v4z\"/>\n",
              "    </g>\n",
              "</svg>\n",
              "  </button>\n",
              "\n",
              "<style>\n",
              "  .colab-df-quickchart {\n",
              "      --bg-color: #E8F0FE;\n",
              "      --fill-color: #1967D2;\n",
              "      --hover-bg-color: #E2EBFA;\n",
              "      --hover-fill-color: #174EA6;\n",
              "      --disabled-fill-color: #AAA;\n",
              "      --disabled-bg-color: #DDD;\n",
              "  }\n",
              "\n",
              "  [theme=dark] .colab-df-quickchart {\n",
              "      --bg-color: #3B4455;\n",
              "      --fill-color: #D2E3FC;\n",
              "      --hover-bg-color: #434B5C;\n",
              "      --hover-fill-color: #FFFFFF;\n",
              "      --disabled-bg-color: #3B4455;\n",
              "      --disabled-fill-color: #666;\n",
              "  }\n",
              "\n",
              "  .colab-df-quickchart {\n",
              "    background-color: var(--bg-color);\n",
              "    border: none;\n",
              "    border-radius: 50%;\n",
              "    cursor: pointer;\n",
              "    display: none;\n",
              "    fill: var(--fill-color);\n",
              "    height: 32px;\n",
              "    padding: 0;\n",
              "    width: 32px;\n",
              "  }\n",
              "\n",
              "  .colab-df-quickchart:hover {\n",
              "    background-color: var(--hover-bg-color);\n",
              "    box-shadow: 0 1px 2px rgba(60, 64, 67, 0.3), 0 1px 3px 1px rgba(60, 64, 67, 0.15);\n",
              "    fill: var(--button-hover-fill-color);\n",
              "  }\n",
              "\n",
              "  .colab-df-quickchart-complete:disabled,\n",
              "  .colab-df-quickchart-complete:disabled:hover {\n",
              "    background-color: var(--disabled-bg-color);\n",
              "    fill: var(--disabled-fill-color);\n",
              "    box-shadow: none;\n",
              "  }\n",
              "\n",
              "  .colab-df-spinner {\n",
              "    border: 2px solid var(--fill-color);\n",
              "    border-color: transparent;\n",
              "    border-bottom-color: var(--fill-color);\n",
              "    animation:\n",
              "      spin 1s steps(1) infinite;\n",
              "  }\n",
              "\n",
              "  @keyframes spin {\n",
              "    0% {\n",
              "      border-color: transparent;\n",
              "      border-bottom-color: var(--fill-color);\n",
              "      border-left-color: var(--fill-color);\n",
              "    }\n",
              "    20% {\n",
              "      border-color: transparent;\n",
              "      border-left-color: var(--fill-color);\n",
              "      border-top-color: var(--fill-color);\n",
              "    }\n",
              "    30% {\n",
              "      border-color: transparent;\n",
              "      border-left-color: var(--fill-color);\n",
              "      border-top-color: var(--fill-color);\n",
              "      border-right-color: var(--fill-color);\n",
              "    }\n",
              "    40% {\n",
              "      border-color: transparent;\n",
              "      border-right-color: var(--fill-color);\n",
              "      border-top-color: var(--fill-color);\n",
              "    }\n",
              "    60% {\n",
              "      border-color: transparent;\n",
              "      border-right-color: var(--fill-color);\n",
              "    }\n",
              "    80% {\n",
              "      border-color: transparent;\n",
              "      border-right-color: var(--fill-color);\n",
              "      border-bottom-color: var(--fill-color);\n",
              "    }\n",
              "    90% {\n",
              "      border-color: transparent;\n",
              "      border-bottom-color: var(--fill-color);\n",
              "    }\n",
              "  }\n",
              "</style>\n",
              "\n",
              "  <script>\n",
              "    async function quickchart(key) {\n",
              "      const quickchartButtonEl =\n",
              "        document.querySelector('#' + key + ' button');\n",
              "      quickchartButtonEl.disabled = true;  // To prevent multiple clicks.\n",
              "      quickchartButtonEl.classList.add('colab-df-spinner');\n",
              "      try {\n",
              "        const charts = await google.colab.kernel.invokeFunction(\n",
              "            'suggestCharts', [key], {});\n",
              "      } catch (error) {\n",
              "        console.error('Error during call to suggestCharts:', error);\n",
              "      }\n",
              "      quickchartButtonEl.classList.remove('colab-df-spinner');\n",
              "      quickchartButtonEl.classList.add('colab-df-quickchart-complete');\n",
              "    }\n",
              "    (() => {\n",
              "      let quickchartButtonEl =\n",
              "        document.querySelector('#df-a2065b52-ecb2-43e1-85a8-32ca36278aa2 button');\n",
              "      quickchartButtonEl.style.display =\n",
              "        google.colab.kernel.accessAllowed ? 'block' : 'none';\n",
              "    })();\n",
              "  </script>\n",
              "</div>\n",
              "\n",
              "  <div id=\"id_333dffd5-60bf-4fdf-8871-9f5489401faf\">\n",
              "    <style>\n",
              "      .colab-df-generate {\n",
              "        background-color: #E8F0FE;\n",
              "        border: none;\n",
              "        border-radius: 50%;\n",
              "        cursor: pointer;\n",
              "        display: none;\n",
              "        fill: #1967D2;\n",
              "        height: 32px;\n",
              "        padding: 0 0 0 0;\n",
              "        width: 32px;\n",
              "      }\n",
              "\n",
              "      .colab-df-generate:hover {\n",
              "        background-color: #E2EBFA;\n",
              "        box-shadow: 0px 1px 2px rgba(60, 64, 67, 0.3), 0px 1px 3px 1px rgba(60, 64, 67, 0.15);\n",
              "        fill: #174EA6;\n",
              "      }\n",
              "\n",
              "      [theme=dark] .colab-df-generate {\n",
              "        background-color: #3B4455;\n",
              "        fill: #D2E3FC;\n",
              "      }\n",
              "\n",
              "      [theme=dark] .colab-df-generate:hover {\n",
              "        background-color: #434B5C;\n",
              "        box-shadow: 0px 1px 3px 1px rgba(0, 0, 0, 0.15);\n",
              "        filter: drop-shadow(0px 1px 2px rgba(0, 0, 0, 0.3));\n",
              "        fill: #FFFFFF;\n",
              "      }\n",
              "    </style>\n",
              "    <button class=\"colab-df-generate\" onclick=\"generateWithVariable('df')\"\n",
              "            title=\"Generate code using this dataframe.\"\n",
              "            style=\"display:none;\">\n",
              "\n",
              "  <svg xmlns=\"http://www.w3.org/2000/svg\" height=\"24px\"viewBox=\"0 0 24 24\"\n",
              "       width=\"24px\">\n",
              "    <path d=\"M7,19H8.4L18.45,9,17,7.55,7,17.6ZM5,21V16.75L18.45,3.32a2,2,0,0,1,2.83,0l1.4,1.43a1.91,1.91,0,0,1,.58,1.4,1.91,1.91,0,0,1-.58,1.4L9.25,21ZM18.45,9,17,7.55Zm-12,3A5.31,5.31,0,0,0,4.9,8.1,5.31,5.31,0,0,0,1,6.5,5.31,5.31,0,0,0,4.9,4.9,5.31,5.31,0,0,0,6.5,1,5.31,5.31,0,0,0,8.1,4.9,5.31,5.31,0,0,0,12,6.5,5.46,5.46,0,0,0,6.5,12Z\"/>\n",
              "  </svg>\n",
              "    </button>\n",
              "    <script>\n",
              "      (() => {\n",
              "      const buttonEl =\n",
              "        document.querySelector('#id_333dffd5-60bf-4fdf-8871-9f5489401faf button.colab-df-generate');\n",
              "      buttonEl.style.display =\n",
              "        google.colab.kernel.accessAllowed ? 'block' : 'none';\n",
              "\n",
              "      buttonEl.onclick = () => {\n",
              "        google.colab.notebook.generateWithVariable('df');\n",
              "      }\n",
              "      })();\n",
              "    </script>\n",
              "  </div>\n",
              "\n",
              "    </div>\n",
              "  </div>\n"
            ],
            "application/vnd.google.colaboratory.intrinsic+json": {
              "type": "dataframe",
              "variable_name": "df",
              "summary": "{\n  \"name\": \"df\",\n  \"rows\": 26,\n  \"fields\": [\n    {\n      \"column\": \"State\",\n      \"properties\": {\n        \"dtype\": \"string\",\n        \"num_unique_values\": 26,\n        \"samples\": [\n          \"I\",\n          \"Q\",\n          \"A\"\n        ],\n        \"semantic_type\": \"\",\n        \"description\": \"\"\n      }\n    },\n    {\n      \"column\": \"Literacy\",\n      \"properties\": {\n        \"dtype\": \"number\",\n        \"std\": 12,\n        \"min\": 55,\n        \"max\": 94,\n        \"num_unique_values\": 26,\n        \"samples\": [\n          89,\n          55,\n          92\n        ],\n        \"semantic_type\": \"\",\n        \"description\": \"\"\n      }\n    },\n    {\n      \"column\": \"Cleanliness\",\n      \"properties\": {\n        \"dtype\": \"number\",\n        \"std\": 8,\n        \"min\": 63,\n        \"max\": 92,\n        \"num_unique_values\": 26,\n        \"samples\": [\n          88,\n          66,\n          90\n        ],\n        \"semantic_type\": \"\",\n        \"description\": \"\"\n      }\n    },\n    {\n      \"column\": \"Crime_Rate\",\n      \"properties\": {\n        \"dtype\": \"number\",\n        \"std\": 6,\n        \"min\": 41,\n        \"max\": 63,\n        \"num_unique_values\": 22,\n        \"samples\": [\n          54,\n          52,\n          53\n        ],\n        \"semantic_type\": \"\",\n        \"description\": \"\"\n      }\n    },\n    {\n      \"column\": \"Good\",\n      \"properties\": {\n        \"dtype\": \"number\",\n        \"std\": 0,\n        \"min\": 0,\n        \"max\": 1,\n        \"num_unique_values\": 2,\n        \"samples\": [\n          1,\n          0\n        ],\n        \"semantic_type\": \"\",\n        \"description\": \"\"\n      }\n    }\n  ]\n}"
            }
          },
          "metadata": {},
          "execution_count": 45
        }
      ]
    },
    {
      "cell_type": "code",
      "source": [
        "cr=np.array(df['Crime_Rate']).reshape(-1,1)\n",
        "y=np.array(df['Good'])\n"
      ],
      "metadata": {
        "id": "Dayj0O8iS284"
      },
      "execution_count": null,
      "outputs": []
    },
    {
      "cell_type": "code",
      "source": [
        "from sklearn.linear_model import LogisticRegression\n",
        "model=LogisticRegression()\n"
      ],
      "metadata": {
        "id": "1QoEMDOfTTM-"
      },
      "execution_count": null,
      "outputs": []
    },
    {
      "cell_type": "code",
      "source": [
        "model.fit(cr,y)"
      ],
      "metadata": {
        "colab": {
          "base_uri": "https://localhost:8080/",
          "height": 74
        },
        "id": "n9VydfXxUI41",
        "outputId": "6f76e0f8-5702-49c5-e775-34cc9d9b2c71"
      },
      "execution_count": null,
      "outputs": [
        {
          "output_type": "execute_result",
          "data": {
            "text/plain": [
              "LogisticRegression()"
            ],
            "text/html": [
              "<style>#sk-container-id-3 {color: black;background-color: white;}#sk-container-id-3 pre{padding: 0;}#sk-container-id-3 div.sk-toggleable {background-color: white;}#sk-container-id-3 label.sk-toggleable__label {cursor: pointer;display: block;width: 100%;margin-bottom: 0;padding: 0.3em;box-sizing: border-box;text-align: center;}#sk-container-id-3 label.sk-toggleable__label-arrow:before {content: \"▸\";float: left;margin-right: 0.25em;color: #696969;}#sk-container-id-3 label.sk-toggleable__label-arrow:hover:before {color: black;}#sk-container-id-3 div.sk-estimator:hover label.sk-toggleable__label-arrow:before {color: black;}#sk-container-id-3 div.sk-toggleable__content {max-height: 0;max-width: 0;overflow: hidden;text-align: left;background-color: #f0f8ff;}#sk-container-id-3 div.sk-toggleable__content pre {margin: 0.2em;color: black;border-radius: 0.25em;background-color: #f0f8ff;}#sk-container-id-3 input.sk-toggleable__control:checked~div.sk-toggleable__content {max-height: 200px;max-width: 100%;overflow: auto;}#sk-container-id-3 input.sk-toggleable__control:checked~label.sk-toggleable__label-arrow:before {content: \"▾\";}#sk-container-id-3 div.sk-estimator input.sk-toggleable__control:checked~label.sk-toggleable__label {background-color: #d4ebff;}#sk-container-id-3 div.sk-label input.sk-toggleable__control:checked~label.sk-toggleable__label {background-color: #d4ebff;}#sk-container-id-3 input.sk-hidden--visually {border: 0;clip: rect(1px 1px 1px 1px);clip: rect(1px, 1px, 1px, 1px);height: 1px;margin: -1px;overflow: hidden;padding: 0;position: absolute;width: 1px;}#sk-container-id-3 div.sk-estimator {font-family: monospace;background-color: #f0f8ff;border: 1px dotted black;border-radius: 0.25em;box-sizing: border-box;margin-bottom: 0.5em;}#sk-container-id-3 div.sk-estimator:hover {background-color: #d4ebff;}#sk-container-id-3 div.sk-parallel-item::after {content: \"\";width: 100%;border-bottom: 1px solid gray;flex-grow: 1;}#sk-container-id-3 div.sk-label:hover label.sk-toggleable__label {background-color: #d4ebff;}#sk-container-id-3 div.sk-serial::before {content: \"\";position: absolute;border-left: 1px solid gray;box-sizing: border-box;top: 0;bottom: 0;left: 50%;z-index: 0;}#sk-container-id-3 div.sk-serial {display: flex;flex-direction: column;align-items: center;background-color: white;padding-right: 0.2em;padding-left: 0.2em;position: relative;}#sk-container-id-3 div.sk-item {position: relative;z-index: 1;}#sk-container-id-3 div.sk-parallel {display: flex;align-items: stretch;justify-content: center;background-color: white;position: relative;}#sk-container-id-3 div.sk-item::before, #sk-container-id-3 div.sk-parallel-item::before {content: \"\";position: absolute;border-left: 1px solid gray;box-sizing: border-box;top: 0;bottom: 0;left: 50%;z-index: -1;}#sk-container-id-3 div.sk-parallel-item {display: flex;flex-direction: column;z-index: 1;position: relative;background-color: white;}#sk-container-id-3 div.sk-parallel-item:first-child::after {align-self: flex-end;width: 50%;}#sk-container-id-3 div.sk-parallel-item:last-child::after {align-self: flex-start;width: 50%;}#sk-container-id-3 div.sk-parallel-item:only-child::after {width: 0;}#sk-container-id-3 div.sk-dashed-wrapped {border: 1px dashed gray;margin: 0 0.4em 0.5em 0.4em;box-sizing: border-box;padding-bottom: 0.4em;background-color: white;}#sk-container-id-3 div.sk-label label {font-family: monospace;font-weight: bold;display: inline-block;line-height: 1.2em;}#sk-container-id-3 div.sk-label-container {text-align: center;}#sk-container-id-3 div.sk-container {/* jupyter's `normalize.less` sets `[hidden] { display: none; }` but bootstrap.min.css set `[hidden] { display: none !important; }` so we also need the `!important` here to be able to override the default hidden behavior on the sphinx rendered scikit-learn.org. See: https://github.com/scikit-learn/scikit-learn/issues/21755 */display: inline-block !important;position: relative;}#sk-container-id-3 div.sk-text-repr-fallback {display: none;}</style><div id=\"sk-container-id-3\" class=\"sk-top-container\"><div class=\"sk-text-repr-fallback\"><pre>LogisticRegression()</pre><b>In a Jupyter environment, please rerun this cell to show the HTML representation or trust the notebook. <br />On GitHub, the HTML representation is unable to render, please try loading this page with nbviewer.org.</b></div><div class=\"sk-container\" hidden><div class=\"sk-item\"><div class=\"sk-estimator sk-toggleable\"><input class=\"sk-toggleable__control sk-hidden--visually\" id=\"sk-estimator-id-3\" type=\"checkbox\" checked><label for=\"sk-estimator-id-3\" class=\"sk-toggleable__label sk-toggleable__label-arrow\">LogisticRegression</label><div class=\"sk-toggleable__content\"><pre>LogisticRegression()</pre></div></div></div></div></div>"
            ]
          },
          "metadata": {},
          "execution_count": 60
        }
      ]
    },
    {
      "cell_type": "code",
      "source": [
        "c=int(input(\"enter crime rate in your city: \"))\n",
        "pred=model.predict([[c]])\n",
        "if pred==1:\n",
        "  print(\"good\")\n",
        "else:\n",
        "  print(\"bad\")"
      ],
      "metadata": {
        "colab": {
          "base_uri": "https://localhost:8080/"
        },
        "id": "ypmXa6ZzUXEe",
        "outputId": "d1df20fc-6df3-4c5e-f365-6d68a645a55b"
      },
      "execution_count": null,
      "outputs": [
        {
          "output_type": "stream",
          "name": "stdout",
          "text": [
            "enter crime rate in your city: 26\n",
            "good\n"
          ]
        }
      ]
    },
    {
      "cell_type": "code",
      "source": [
        "#google translator\n",
        "import requests\n",
        "\n",
        "url = \"https://google-translate1.p.rapidapi.com/language/translate/v2\"\n",
        "\n",
        "payload = {\n",
        "\t\"q\": \" jwalitha mam!\",\n",
        "\t\"target\": \"ta\",\n",
        "\t\"source\": \"en\"\n",
        "}\n",
        "headers = {\n",
        "\t\"content-type\": \"application/x-www-form-urlencoded\",\n",
        "\t\"Accept-Encoding\": \"application/gzip\",\n",
        "\t\"X-RapidAPI-Key\": \"d7a26cc4f9msh57ef49c577adbacp12959ajsne07c1ba100bf\",\n",
        "\t\"X-RapidAPI-Host\": \"google-translate1.p.rapidapi.com\"\n",
        "}\n",
        "\n",
        "response = requests.post(url, data=payload, headers=headers)\n",
        "\n",
        "print(response.json())"
      ],
      "metadata": {
        "colab": {
          "base_uri": "https://localhost:8080/"
        },
        "id": "uDpsUva8gvYt",
        "outputId": "3218d206-e872-4082-d572-bbb4b2d7ebda"
      },
      "execution_count": null,
      "outputs": [
        {
          "output_type": "stream",
          "name": "stdout",
          "text": [
            "{'data': {'translations': [{'translatedText': ' ஜ்வலிதா அம்மா!'}]}}\n"
          ]
        }
      ]
    },
    {
      "cell_type": "code",
      "source": [
        "#google translator\n",
        "import requests\n",
        "\n",
        "url = \"https://google-translate1.p.rapidapi.com/language/translate/v2/detect\"\n",
        "\n",
        "payload = { \"q\": \"English is hard, but detectably so\" }\n",
        "headers = {\n",
        "\t\"content-type\": \"application/x-www-form-urlencoded\",\n",
        "\t\"Accept-Encoding\": \"application/gzip\",\n",
        "\t\"X-RapidAPI-Key\": \"d7a26cc4f9msh57ef49c577adbacp12959ajsne07c1ba100bf\",\n",
        "\t\"X-RapidAPI-Host\": \"google-translate1.p.rapidapi.com\"\n",
        "}\n",
        "\n",
        "response = requests.post(url, data=payload, headers=headers)\n",
        "\n",
        "print(response.json())"
      ],
      "metadata": {
        "colab": {
          "base_uri": "https://localhost:8080/"
        },
        "id": "WZFs2DLqDLuW",
        "outputId": "0ce4091c-584e-458b-fcaf-92fe342b5ba1"
      },
      "execution_count": null,
      "outputs": [
        {
          "output_type": "stream",
          "name": "stdout",
          "text": [
            "{'data': {'detections': [[{'language': 'en', 'isReliable': False, 'confidence': 1}]]}}\n"
          ]
        }
      ]
    },
    {
      "cell_type": "code",
      "source": [
        "#google traslator\n",
        "import requests\n",
        "\n",
        "url = \"https://google-translate1.p.rapidapi.com/language/translate/v2/languages\"\n",
        "\n",
        "headers = {\n",
        "\t\"Accept-Encoding\": \"application/gzip\",\n",
        "\t\"X-RapidAPI-Key\": \"d7a26cc4f9msh57ef49c577adbacp12959ajsne07c1ba100bf\",\n",
        "\t\"X-RapidAPI-Host\": \"google-translate1.p.rapidapi.com\"\n",
        "}\n",
        "\n",
        "response = requests.get(url, headers=headers)\n",
        "\n",
        "print(response.json())"
      ],
      "metadata": {
        "colab": {
          "base_uri": "https://localhost:8080/"
        },
        "id": "LrUC0ouWD4Vt",
        "outputId": "ed75a800-f5b9-4c84-f5ec-65c65738e354"
      },
      "execution_count": null,
      "outputs": [
        {
          "output_type": "stream",
          "name": "stdout",
          "text": [
            "{'data': {'languages': [{'language': 'af'}, {'language': 'ak'}, {'language': 'am'}, {'language': 'ar'}, {'language': 'as'}, {'language': 'ay'}, {'language': 'az'}, {'language': 'be'}, {'language': 'bg'}, {'language': 'bho'}, {'language': 'bm'}, {'language': 'bn'}, {'language': 'bs'}, {'language': 'ca'}, {'language': 'ceb'}, {'language': 'ckb'}, {'language': 'co'}, {'language': 'cs'}, {'language': 'cy'}, {'language': 'da'}, {'language': 'de'}, {'language': 'doi'}, {'language': 'dv'}, {'language': 'ee'}, {'language': 'el'}, {'language': 'en'}, {'language': 'eo'}, {'language': 'es'}, {'language': 'et'}, {'language': 'eu'}, {'language': 'fa'}, {'language': 'fi'}, {'language': 'fr'}, {'language': 'fy'}, {'language': 'ga'}, {'language': 'gd'}, {'language': 'gl'}, {'language': 'gn'}, {'language': 'gom'}, {'language': 'gu'}, {'language': 'ha'}, {'language': 'haw'}, {'language': 'he'}, {'language': 'hi'}, {'language': 'hmn'}, {'language': 'hr'}, {'language': 'ht'}, {'language': 'hu'}, {'language': 'hy'}, {'language': 'id'}, {'language': 'ig'}, {'language': 'ilo'}, {'language': 'is'}, {'language': 'it'}, {'language': 'iw'}, {'language': 'ja'}, {'language': 'jv'}, {'language': 'jw'}, {'language': 'ka'}, {'language': 'kk'}, {'language': 'km'}, {'language': 'kn'}, {'language': 'ko'}, {'language': 'kri'}, {'language': 'ku'}, {'language': 'ky'}, {'language': 'la'}, {'language': 'lb'}, {'language': 'lg'}, {'language': 'ln'}, {'language': 'lo'}, {'language': 'lt'}, {'language': 'lus'}, {'language': 'lv'}, {'language': 'mai'}, {'language': 'mg'}, {'language': 'mi'}, {'language': 'mk'}, {'language': 'ml'}, {'language': 'mn'}, {'language': 'mni-Mtei'}, {'language': 'mr'}, {'language': 'ms'}, {'language': 'mt'}, {'language': 'my'}, {'language': 'ne'}, {'language': 'nl'}, {'language': 'no'}, {'language': 'nso'}, {'language': 'ny'}, {'language': 'om'}, {'language': 'or'}, {'language': 'pa'}, {'language': 'pl'}, {'language': 'ps'}, {'language': 'pt'}, {'language': 'qu'}, {'language': 'ro'}, {'language': 'ru'}, {'language': 'rw'}, {'language': 'sa'}, {'language': 'sd'}, {'language': 'si'}, {'language': 'sk'}, {'language': 'sl'}, {'language': 'sm'}, {'language': 'sn'}, {'language': 'so'}, {'language': 'sq'}, {'language': 'sr'}, {'language': 'st'}, {'language': 'su'}, {'language': 'sv'}, {'language': 'sw'}, {'language': 'ta'}, {'language': 'te'}, {'language': 'tg'}, {'language': 'th'}, {'language': 'ti'}, {'language': 'tk'}, {'language': 'tl'}, {'language': 'tr'}, {'language': 'ts'}, {'language': 'tt'}, {'language': 'ug'}, {'language': 'uk'}, {'language': 'ur'}, {'language': 'uz'}, {'language': 'vi'}, {'language': 'xh'}, {'language': 'yi'}, {'language': 'yo'}, {'language': 'zh'}, {'language': 'zh-CN'}, {'language': 'zh-TW'}, {'language': 'zu'}]}}\n"
          ]
        }
      ]
    },
    {
      "cell_type": "code",
      "source": [
        "# indian railway train details\n",
        "import requests\n",
        "url = \"https://trains.p.rapidapi.com/\"\n",
        "tr_name=input((\"Enter train name:\"))\n",
        "payload = { \"search\": tr_name }\n",
        "headers = {\n",
        "\t\"content-type\": \"application/json\",\n",
        "\t\"X-RapidAPI-Key\": \"d7a26cc4f9msh57ef49c577adbacp12959ajsne07c1ba100bf\",\n",
        "\t\"X-RapidAPI-Host\": \"trains.p.rapidapi.com\"\n",
        "}\n",
        "response = requests.post(url, json=payload, headers=headers)\n",
        "d = response.json()\n",
        "l=len(d)\n",
        "for i in range(l):\n",
        "  print(\"train\",i+1, \"details:\")\n",
        "  print(\"train_num :\", d[i]['train_num'])\n",
        "  print(\"train name :\", d[i]['name'])\n",
        "  print(\"data :\",d[i]['data']['days'])\n",
        "  print(\"classes :\",d[i]['data']['classes'])"
      ],
      "metadata": {
        "colab": {
          "base_uri": "https://localhost:8080/"
        },
        "id": "eRSr7V3cg2b4",
        "outputId": "80872947-746e-4a74-e526-9ad308caba6a"
      },
      "execution_count": null,
      "outputs": [
        {
          "output_type": "stream",
          "name": "stdout",
          "text": [
            "Enter train name:tirumala\n",
            "train 1 details:\n",
            "train_num : 17487\n",
            "train name : Tirumala Express\n",
            "data : {'Fri': 1, 'Mon': 1, 'Sat': 1, 'Sun': 1, 'Thu': 1, 'Tue': 1, 'Wed': 1}\n",
            "classes : ['II', 'SL', '3A', '2A']\n",
            "train 2 details:\n",
            "train_num : 17488\n",
            "train name : Tirumala Express\n",
            "data : {'Fri': 1, 'Mon': 1, 'Sat': 1, 'Sun': 1, 'Thu': 1, 'Tue': 1, 'Wed': 1}\n",
            "classes : ['II', 'SL', '3A', '2A']\n"
          ]
        }
      ]
    },
    {
      "cell_type": "code",
      "source": [],
      "metadata": {
        "id": "kRQR0TBrmPMX"
      },
      "execution_count": null,
      "outputs": []
    }
  ]
}